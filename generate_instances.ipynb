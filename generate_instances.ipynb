{
 "cells": [
  {
   "cell_type": "code",
   "id": "173af28e7d65bdd4",
   "metadata": {
    "ExecuteTime": {
     "end_time": "2024-06-27T12:47:15.384127Z",
     "start_time": "2024-06-27T12:47:04.120330Z"
    }
   },
   "source": [
    "import numpy as np\n",
    "from tqdm import tqdm\n",
    "from solver.qp import qp\n",
    "import pandas as pd\n",
    "import torch\n",
    "import gzip\n",
    "import pickle\n",
    "import warnings\n",
    "from generate_instances import generate_softmarginsvm, generate_markowitz_portfolio_optimization"
   ],
   "outputs": [],
   "execution_count": 1
  },
  {
   "cell_type": "markdown",
   "id": "c5d11e2e014c6a03",
   "metadata": {},
   "source": [
    "### Soft margin Support Vector Machine"
   ]
  },
  {
   "cell_type": "code",
   "id": "c2209ef31c708a40",
   "metadata": {
    "ExecuteTime": {
     "end_time": "2024-06-27T12:45:59.026480Z",
     "start_time": "2024-06-27T12:45:59.003940Z"
    }
   },
   "source": [
    "def surrogate_gen():\n",
    "    C = 10 #regularization parameter\n",
    "    m = 4 #number of Datapoints\n",
    "    X = np.random.uniform(-1, 1, (m, 2)) #Dataset\n",
    "    bias = np.full((m, 1), 0.5)\n",
    "    X[:, 1] += bias.ravel()   # Adding a bias to make data linearly separable\n",
    "    y = np.array([1.0 if x[0] > x[1] else -1.0 for x in X]).reshape(m, 1) #label vector\n",
    "    Q, q, G, h, A, b, S = generate_softmarginsvm(y, X, C)    \n",
    "    return Q, q, G, h, A, b, S"
   ],
   "outputs": [],
   "execution_count": 49
  },
  {
   "cell_type": "markdown",
   "id": "93c1650d9ef54eac",
   "metadata": {},
   "source": [
    "### Markowitz portfolio optimization"
   ]
  },
  {
   "cell_type": "code",
   "id": "75d7d68c8a4250be",
   "metadata": {
    "ExecuteTime": {
     "end_time": "2024-06-27T12:51:44.409025Z",
     "start_time": "2024-06-27T12:51:44.053038Z"
    }
   },
   "source": [
    "def surrogate_gen():\n",
    "    np.random.seed(1)\n",
    "    n_obs = 252\n",
    "    n_assets = 4\n",
    "    artificial_returns = np.random.randn(n_obs, n_assets) + 0.05 # minimum expected return\n",
    "    returns = pd.DataFrame(artificial_returns)\n",
    "    pbar = np.array(returns.mean()).reshape(1, -1)\n",
    "    r_min = pbar.mean() # minimum return threshold\n",
    "    Q, q, G, h, A, b, S = generate_markowitz_portfolio_optimization(artificial_returns, r_min, pbar)\n",
    "    return Q, q, G, h, A, b, S "
   ],
   "outputs": [],
   "execution_count": 4
  },
  {
   "cell_type": "markdown",
   "id": "2743d542764c5370",
   "metadata": {},
   "source": [
    "### create"
   ]
  },
  {
   "cell_type": "code",
   "id": "7d554e7c00048391",
   "metadata": {
    "ExecuteTime": {
     "end_time": "2024-06-27T12:51:46.215743Z",
     "start_time": "2024-06-27T12:51:45.619916Z"
    }
   },
   "source": [
    "import os\n",
    "\n",
    "directory = f'Quadratic_Programming_Datasets/raw'\n",
    "os.makedirs(directory, exist_ok=True)\n",
    "warnings.filterwarnings(\"error\")\n",
    "\n",
    "ips = []\n",
    "pkg_idx = 0 #identifier index\n",
    "success_cnt = 0\n",
    "fail_cnt = 0\n",
    "max_ipm_steps = 0\n",
    "\n",
    "\n",
    "max_iter = 100\n",
    "num = 10\n",
    "\n",
    "for i in tqdm(range(max_iter)):\n",
    "    Q, q, G, h, A, b, S = surrogate_gen()\n",
    "    \n",
    "    try:\n",
    "        res = qp(Q, q, G, h, A, b, callback=lambda res: res)\n",
    "        max_ipm_steps = max(max_ipm_steps, res['iterations'])\n",
    "        print(\"status\",res['status'])\n",
    "    except Exception as e:\n",
    "        fail_cnt += 1\n",
    "        warnings.warn(f'Optimization failed with error: {str(e)}')\n",
    "        continue\n",
    "    else:\n",
    "        if res['status'] == 'optimal': #np.isnan(res.fun)?\n",
    "            ips.append((torch.from_numpy(np.array(Q)).to(torch.float), torch.from_numpy(np.array(q)).to(torch.float), torch.from_numpy(np.array(G)).to(torch.float), torch.from_numpy(np.array(h)).to(torch.float), torch.from_numpy(np.array(A)).to(torch.float), torch.from_numpy(np.array(b)).to(torch.float), torch.from_numpy(np.array(S)).to(torch.float), res))\n",
    "            print(success_cnt)\n",
    "            success_cnt += 1\n",
    "            \n",
    "    if len(ips) >= 1000 or success_cnt == num:\n",
    "        print(\"success\")\n",
    "        ips = [ip + (max_ipm_steps,) for ip in ips]\n",
    "        with gzip.open(f'Quadratic_Programming_Datasets/raw/instance_{pkg_idx}.pkl.gz', \"wb\") as file:\n",
    "            pickle.dump(ips, file)\n",
    "            print(f'Package {pkg_idx} saved')\n",
    "            pkg_idx += 1\n",
    "\n",
    "        ips = []\n",
    "    if success_cnt >= num:\n",
    "        break\n",
    "warnings.resetwarnings()"
   ],
   "outputs": [
    {
     "name": "stderr",
     "output_type": "stream",
     "text": [
      "  9%|▉         | 9/100 [00:00<00:04, 21.20it/s]"
     ]
    },
    {
     "name": "stdout",
     "output_type": "stream",
     "text": [
      "     pcost       dcost       gap    pres   dres\n",
      " 0:  1.1389e-01 -8.9748e-01  6e+00  2e+00  3e+00\n",
      " 1:  1.1513e-01 -5.3957e-01  7e-01  2e-02  2e-02\n",
      " 2:  1.1519e-01  1.0276e-01  1e-02  3e-04  3e-04\n",
      " 3:  1.1415e-01  1.1368e-01  5e-04  5e-06  6e-06\n",
      " 4:  1.1396e-01  1.1395e-01  2e-05  5e-08  6e-08\n",
      " 5:  1.1395e-01  1.1395e-01  2e-07  5e-10  6e-10\n",
      " 6:  1.1395e-01  1.1395e-01  2e-09  5e-12  6e-12\n",
      "Optimal solution found.\n",
      "status optimal\n",
      "0\n",
      "     pcost       dcost       gap    pres   dres\n",
      " 0:  1.1389e-01 -8.9748e-01  6e+00  2e+00  3e+00\n",
      " 1:  1.1513e-01 -5.3957e-01  7e-01  2e-02  2e-02\n",
      " 2:  1.1519e-01  1.0276e-01  1e-02  3e-04  3e-04\n",
      " 3:  1.1415e-01  1.1368e-01  5e-04  5e-06  6e-06\n",
      " 4:  1.1396e-01  1.1395e-01  2e-05  5e-08  6e-08\n",
      " 5:  1.1395e-01  1.1395e-01  2e-07  5e-10  6e-10\n",
      " 6:  1.1395e-01  1.1395e-01  2e-09  5e-12  6e-12\n",
      "Optimal solution found.\n",
      "status optimal\n",
      "1\n",
      "     pcost       dcost       gap    pres   dres\n",
      " 0:  1.1389e-01 -8.9748e-01  6e+00  2e+00  3e+00\n",
      " 1:  1.1513e-01 -5.3957e-01  7e-01  2e-02  2e-02\n",
      " 2:  1.1519e-01  1.0276e-01  1e-02  3e-04  3e-04\n",
      " 3:  1.1415e-01  1.1368e-01  5e-04  5e-06  6e-06\n",
      " 4:  1.1396e-01  1.1395e-01  2e-05  5e-08  6e-08\n",
      " 5:  1.1395e-01  1.1395e-01  2e-07  5e-10  6e-10\n",
      " 6:  1.1395e-01  1.1395e-01  2e-09  5e-12  6e-12\n",
      "Optimal solution found.\n",
      "status optimal\n",
      "2\n",
      "     pcost       dcost       gap    pres   dres\n",
      " 0:  1.1389e-01 -8.9748e-01  6e+00  2e+00  3e+00\n",
      " 1:  1.1513e-01 -5.3957e-01  7e-01  2e-02  2e-02\n",
      " 2:  1.1519e-01  1.0276e-01  1e-02  3e-04  3e-04\n",
      " 3:  1.1415e-01  1.1368e-01  5e-04  5e-06  6e-06\n",
      " 4:  1.1396e-01  1.1395e-01  2e-05  5e-08  6e-08\n",
      " 5:  1.1395e-01  1.1395e-01  2e-07  5e-10  6e-10\n",
      " 6:  1.1395e-01  1.1395e-01  2e-09  5e-12  6e-12\n",
      "Optimal solution found.\n",
      "status optimal\n",
      "3\n",
      "     pcost       dcost       gap    pres   dres\n",
      " 0:  1.1389e-01 -8.9748e-01  6e+00  2e+00  3e+00\n",
      " 1:  1.1513e-01 -5.3957e-01  7e-01  2e-02  2e-02\n",
      " 2:  1.1519e-01  1.0276e-01  1e-02  3e-04  3e-04\n",
      " 3:  1.1415e-01  1.1368e-01  5e-04  5e-06  6e-06\n",
      " 4:  1.1396e-01  1.1395e-01  2e-05  5e-08  6e-08\n",
      " 5:  1.1395e-01  1.1395e-01  2e-07  5e-10  6e-10\n",
      " 6:  1.1395e-01  1.1395e-01  2e-09  5e-12  6e-12\n",
      "Optimal solution found.\n",
      "status optimal\n",
      "4\n",
      "     pcost       dcost       gap    pres   dres\n",
      " 0:  1.1389e-01 -8.9748e-01  6e+00  2e+00  3e+00\n",
      " 1:  1.1513e-01 -5.3957e-01  7e-01  2e-02  2e-02\n",
      " 2:  1.1519e-01  1.0276e-01  1e-02  3e-04  3e-04\n",
      " 3:  1.1415e-01  1.1368e-01  5e-04  5e-06  6e-06\n",
      " 4:  1.1396e-01  1.1395e-01  2e-05  5e-08  6e-08\n",
      " 5:  1.1395e-01  1.1395e-01  2e-07  5e-10  6e-10\n",
      " 6:  1.1395e-01  1.1395e-01  2e-09  5e-12  6e-12\n",
      "Optimal solution found.\n",
      "status optimal\n",
      "5\n",
      "     pcost       dcost       gap    pres   dres\n",
      " 0:  1.1389e-01 -8.9748e-01  6e+00  2e+00  3e+00\n",
      " 1:  1.1513e-01 -5.3957e-01  7e-01  2e-02  2e-02\n",
      " 2:  1.1519e-01  1.0276e-01  1e-02  3e-04  3e-04\n",
      " 3:  1.1415e-01  1.1368e-01  5e-04  5e-06  6e-06\n",
      " 4:  1.1396e-01  1.1395e-01  2e-05  5e-08  6e-08\n",
      " 5:  1.1395e-01  1.1395e-01  2e-07  5e-10  6e-10\n",
      " 6:  1.1395e-01  1.1395e-01  2e-09  5e-12  6e-12\n",
      "Optimal solution found.\n",
      "status optimal\n",
      "6\n",
      "     pcost       dcost       gap    pres   dres\n",
      " 0:  1.1389e-01 -8.9748e-01  6e+00  2e+00  3e+00\n",
      " 1:  1.1513e-01 -5.3957e-01  7e-01  2e-02  2e-02\n",
      " 2:  1.1519e-01  1.0276e-01  1e-02  3e-04  3e-04\n",
      " 3:  1.1415e-01  1.1368e-01  5e-04  5e-06  6e-06\n",
      " 4:  1.1396e-01  1.1395e-01  2e-05  5e-08  6e-08\n",
      " 5:  1.1395e-01  1.1395e-01  2e-07  5e-10  6e-10\n",
      " 6:  1.1395e-01  1.1395e-01  2e-09  5e-12  6e-12\n",
      "Optimal solution found.\n",
      "status optimal\n",
      "7\n",
      "     pcost       dcost       gap    pres   dres\n",
      " 0:  1.1389e-01 -8.9748e-01  6e+00  2e+00  3e+00\n",
      " 1:  1.1513e-01 -5.3957e-01  7e-01  2e-02  2e-02\n",
      " 2:  1.1519e-01  1.0276e-01  1e-02  3e-04  3e-04\n",
      " 3:  1.1415e-01  1.1368e-01  5e-04  5e-06  6e-06\n",
      " 4:  1.1396e-01  1.1395e-01  2e-05  5e-08  6e-08\n",
      " 5:  1.1395e-01  1.1395e-01  2e-07  5e-10  6e-10\n",
      " 6:  1.1395e-01  1.1395e-01  2e-09  5e-12  6e-12\n",
      "Optimal solution found.\n",
      "status optimal\n",
      "8\n",
      "     pcost       dcost       gap    pres   dres\n",
      " 0:  1.1389e-01 -8.9748e-01  6e+00  2e+00  3e+00\n",
      " 1:  1.1513e-01 -5.3957e-01  7e-01  2e-02  2e-02\n",
      " 2:  1.1519e-01  1.0276e-01  1e-02  3e-04  3e-04\n",
      " 3:  1.1415e-01  1.1368e-01  5e-04  5e-06  6e-06\n",
      " 4:  1.1396e-01  1.1395e-01  2e-05  5e-08  6e-08\n",
      " 5:  1.1395e-01  1.1395e-01  2e-07  5e-10  6e-10\n",
      " 6:  1.1395e-01  1.1395e-01  2e-09  5e-12  6e-12\n",
      "Optimal solution found.\n",
      "status optimal\n",
      "9\n",
      "success\n",
      "Package 0 saved\n"
     ]
    },
    {
     "name": "stderr",
     "output_type": "stream",
     "text": [
      "\n"
     ]
    }
   ],
   "execution_count": 5
  },
  {
   "cell_type": "code",
   "execution_count": null,
   "id": "e2721d626572439a",
   "metadata": {},
   "outputs": [],
   "source": [
    "# Open and load the .pkl.gz file\n",
    "with gzip.open(f'Quadratic_Programming_Datasets/raw/instance_{pkg_idx-1}.pkl.gz', 'rb') as f:\n",
    "    data = pickle.load(f)\n",
    "\n",
    "# Now `data` contains the contents of the pickle file\n",
    "print(data)"
   ]
  },
  {
   "cell_type": "code",
   "execution_count": 8,
   "id": "da58a31599301d3b",
   "metadata": {
    "ExecuteTime": {
     "end_time": "2024-06-19T10:51:03.870539Z",
     "start_time": "2024-06-19T10:51:03.863323Z"
    }
   },
   "outputs": [],
   "source": []
  },
  {
   "cell_type": "code",
   "execution_count": null,
   "id": "78f1cd8d54d3c20d",
   "metadata": {},
   "outputs": [],
   "source": []
  }
 ],
 "metadata": {
  "kernelspec": {
   "display_name": "Python 3 (ipykernel)",
   "language": "python",
   "name": "python3"
  },
  "language_info": {
   "codemirror_mode": {
    "name": "ipython",
    "version": 3
   },
   "file_extension": ".py",
   "mimetype": "text/x-python",
   "name": "python",
   "nbconvert_exporter": "python",
   "pygments_lexer": "ipython3",
   "version": "3.12.3"
  }
 },
 "nbformat": 4,
 "nbformat_minor": 5
}
