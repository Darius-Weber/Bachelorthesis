{
 "cells": [
  {
   "cell_type": "code",
   "execution_count": 1,
   "id": "173af28e7d65bdd4",
   "metadata": {
    "ExecuteTime": {
     "end_time": "2024-07-09T14:05:20.536672Z",
     "start_time": "2024-07-09T14:05:12.207868Z"
    }
   },
   "outputs": [],
   "source": [
    "import numpy as np\n",
    "from tqdm import tqdm\n",
    "from solver.qp import qp\n",
    "import pandas as pd\n",
    "import torch\n",
    "import gzip\n",
    "import pickle\n",
    "import warnings\n",
    "from generate_instances import generate_softmarginsvm, generate_markowitz_portfolio_optimization, generate_convex_function_to_data, generate_regressor_selection"
   ]
  },
  {
   "cell_type": "markdown",
   "id": "c5d11e2e014c6a03",
   "metadata": {},
   "source": [
    "### Soft margin Support Vector Machine"
   ]
  },
  {
   "cell_type": "code",
   "execution_count": 2,
   "id": "c2209ef31c708a40",
   "metadata": {
    "ExecuteTime": {
     "end_time": "2024-07-09T14:05:24.659623Z",
     "start_time": "2024-07-09T14:05:24.648215Z"
    }
   },
   "outputs": [],
   "source": [
    "def surrogate_gen():\n",
    "    NUM = 500 # Number of points\n",
    "    DIM = 2 # Dimension of the points\n",
    "    C = 10 # regularization parameter (hardness of the margin)\n",
    "    \n",
    "    \n",
    "    # 2-D mean of ones\n",
    "    M1 = np.ones((DIM,))\n",
    "    # 2-D mean of threes\n",
    "    M2 = 3 * np.ones((DIM,))\n",
    "    # 2-D covariance of 0.3\n",
    "    C1 = np.diag(0.3 * np.ones((DIM,)))\n",
    "    # 2-D covariance of 0.2\n",
    "    C2 = np.diag(0.2 * np.ones((DIM,)))\n",
    "\n",
    "    # generate 50 points from gaussian 1\n",
    "    x1 = np.random.multivariate_normal(M1, C1, NUM) #generate gaussian\n",
    "    # labels\n",
    "    y1 = np.ones((x1.shape[0],))\n",
    "    # generate 50 points from gaussian 2\n",
    "    x2 = np.random.multivariate_normal(M2, C2, NUM)\n",
    "    y2 = -np.ones((x2.shape[0],))\n",
    "    # join\n",
    "    X = np.concatenate((x1, x2), axis = 0)\n",
    "    y = np.concatenate((y1, y2), axis = 0)\n",
    "\n",
    "    Q, q, G, h, A, b, S = generate_softmarginsvm(y, X, C)    \n",
    "    return Q, q, G, h, A, b, S"
   ]
  },
  {
   "cell_type": "markdown",
   "id": "93c1650d9ef54eac",
   "metadata": {},
   "source": [
    "### Markowitz portfolio optimization"
   ]
  },
  {
   "cell_type": "code",
   "execution_count": 4,
   "id": "75d7d68c8a4250be",
   "metadata": {
    "ExecuteTime": {
     "end_time": "2024-07-09T14:35:55.851663Z",
     "start_time": "2024-07-09T14:35:55.749789Z"
    }
   },
   "outputs": [],
   "source": [
    "def surrogate_gen():\n",
    "    np.random.seed(1)\n",
    "    n_obs = 252\n",
    "    n_assets = 4\n",
    "    artificial_returns = np.random.randn(n_obs, n_assets) + 0.05 # minimum expected return\n",
    "    returns = pd.DataFrame(artificial_returns)\n",
    "    pbar = np.array(returns.mean()).reshape(1, -1)\n",
    "    r_min = pbar.mean() # minimum return threshold\n",
    "    Q, q, G, h, A, b, S = generate_markowitz_portfolio_optimization(artificial_returns, r_min, pbar)\n",
    "    return Q, q, G, h, A, b, S"
   ]
  },
  {
   "cell_type": "markdown",
   "id": "a09787a8adf0c02b",
   "metadata": {},
   "source": [
    "### Fiting convex function to given data"
   ]
  },
  {
   "cell_type": "code",
   "execution_count": 2,
   "id": "2e8cbd4859c7b22",
   "metadata": {
    "ExecuteTime": {
     "end_time": "2024-07-09T12:05:44.681178Z",
     "start_time": "2024-07-09T12:05:44.646965Z"
    }
   },
   "outputs": [],
   "source": [
    "def surrogate_gen():\n",
    "    \n",
    "    # Generate 'u' values (from -2 to 2) for the independent variable\n",
    "    NUM = 3\n",
    "    u_values = np.linspace(-2.0, 2.0, num=NUM).reshape(-1, 1)\n",
    "    Q, q, G, h, A, b, S = generate_convex_function_to_data(u_values)\n",
    "    return Q, q, G, h, A, b, S"
   ]
  },
  {
   "cell_type": "markdown",
   "id": "8b781b09b289bfa7",
   "metadata": {},
   "source": [
    "### Regressor selection problem"
   ]
  },
  {
   "cell_type": "code",
   "execution_count": 26,
   "id": "ebeae10144d38b57",
   "metadata": {
    "ExecuteTime": {
     "end_time": "2024-07-09T12:30:11.561264Z",
     "start_time": "2024-07-09T12:30:11.497953Z"
    }
   },
   "outputs": [],
   "source": [
    "def surrogate_gen():\n",
    "    \n",
    "    # Set dimensions\n",
    "    m = 10  # number of rows for A\n",
    "    n = 20  # number of columns for A\n",
    "    nopts = 100 # range of alpha values\n",
    "    alpha_index = np.random.randint(0, nopts) # Select an alpha value from the range nopts\n",
    "    Q, q, G, h, A, b, S = generate_regressor_selection(alpha_index, m, n)\n",
    "    \n",
    "    return Q, q, G, h, A, b, S"
   ]
  },
  {
   "cell_type": "markdown",
   "id": "2743d542764c5370",
   "metadata": {},
   "source": [
    "### create"
   ]
  },
  {
   "cell_type": "code",
   "execution_count": 3,
   "id": "7d554e7c00048391",
   "metadata": {
    "ExecuteTime": {
     "end_time": "2024-07-09T14:36:02.066948Z",
     "start_time": "2024-07-09T14:36:01.596168Z"
    }
   },
   "outputs": [
    {
     "name": "stderr",
     "output_type": "stream",
     "text": [
      "  9%|▉         | 9/100 [00:00<00:01, 83.22it/s]"
     ]
    },
    {
     "name": "stdout",
     "output_type": "stream",
     "text": [
      "     pcost       dcost       gap    pres   dres\n",
      " 0: -1.4038e+01 -1.3717e+01  2e+01  5e+00  2e+00\n",
      " 1: -1.5653e+01 -1.6954e+01  5e+00  1e+00  6e-01\n",
      " 2: -1.8691e+01 -2.0070e+01  2e+00  6e-02  3e-02\n",
      " 3: -1.8705e+01 -1.8724e+01  2e-02  7e-04  3e-04\n",
      " 4: -1.8705e+01 -1.8706e+01  2e-04  7e-06  3e-06\n",
      " 5: -1.8705e+01 -1.8705e+01  2e-06  7e-08  3e-08\n",
      "Optimal solution found.\n",
      "status optimal\n",
      "     pcost       dcost       gap    pres   dres\n",
      " 0: -1.2823e+01 -1.2537e+01  2e+01  5e+00  2e+00\n",
      " 1: -1.4368e+01 -1.5665e+01  5e+00  1e+00  6e-01\n",
      " 2: -1.7250e+01 -1.8507e+01  1e+00  6e-02  3e-02\n",
      " 3: -1.7263e+01 -1.7278e+01  2e-02  6e-04  3e-04\n",
      " 4: -1.7263e+01 -1.7263e+01  2e-04  6e-06  3e-06\n",
      " 5: -1.7263e+01 -1.7263e+01  2e-06  6e-08  3e-08\n",
      "Optimal solution found.\n",
      "status optimal\n",
      "     pcost       dcost       gap    pres   dres\n",
      " 0: -1.1160e+01 -1.0938e+01  2e+01  5e+00  3e+00\n",
      " 1: -1.2579e+01 -1.3868e+01  4e+00  1e+00  6e-01\n",
      " 2: -1.5181e+01 -1.6219e+01  1e+00  6e-02  3e-02\n",
      " 3: -1.5189e+01 -1.5202e+01  1e-02  6e-04  4e-04\n",
      " 4: -1.5189e+01 -1.5189e+01  1e-04  6e-06  4e-06\n",
      " 5: -1.5189e+01 -1.5189e+01  1e-06  6e-08  4e-08\n",
      "Optimal solution found.\n",
      "status optimal\n",
      "     pcost       dcost       gap    pres   dres\n",
      " 0: -1.2682e+01 -1.2441e+01  2e+01  5e+00  2e+00\n",
      " 1: -1.4140e+01 -1.5432e+01  4e+00  1e+00  6e-01\n",
      " 2: -1.6828e+01 -1.7932e+01  1e+00  6e-02  3e-02\n",
      " 3: -1.6837e+01 -1.6851e+01  1e-02  6e-04  3e-04\n",
      " 4: -1.6837e+01 -1.6837e+01  1e-04  6e-06  3e-06\n",
      " 5: -1.6837e+01 -1.6837e+01  1e-06  6e-08  3e-08\n",
      "Optimal solution found.\n",
      "status optimal\n",
      "     pcost       dcost       gap    pres   dres\n",
      " 0: -1.1133e+01 -1.0957e+01  2e+01  4e+00  3e+00\n",
      " 1: -1.2456e+01 -1.3736e+01  4e+00  1e+00  6e-01\n",
      " 2: -1.4844e+01 -1.5720e+01  1e+00  5e-02  3e-02\n",
      " 3: -1.4849e+01 -1.4861e+01  1e-02  6e-04  4e-04\n",
      " 4: -1.4849e+01 -1.4849e+01  1e-04  6e-06  4e-06\n",
      " 5: -1.4849e+01 -1.4849e+01  1e-06  6e-08  4e-08\n",
      "Optimal solution found.\n",
      "status optimal\n",
      "     pcost       dcost       gap    pres   dres\n",
      " 0: -1.2229e+01 -1.2005e+01  2e+01  5e+00  2e+00\n",
      " 1: -1.3652e+01 -1.4941e+01  4e+00  1e+00  6e-01\n",
      " 2: -1.6262e+01 -1.7306e+01  1e+00  6e-02  3e-02\n",
      " 3: -1.6270e+01 -1.6283e+01  1e-02  6e-04  3e-04\n",
      " 4: -1.6270e+01 -1.6270e+01  1e-04  6e-06  3e-06\n",
      " 5: -1.6270e+01 -1.6270e+01  1e-06  6e-08  3e-08\n",
      "Optimal solution found.\n",
      "status optimal\n",
      "     pcost       dcost       gap    pres   dres\n",
      " 0: -1.2507e+01 -1.2305e+01  2e+01  5e+00  2e+00\n",
      " 1: -1.3885e+01 -1.5170e+01  4e+00  1e+00  6e-01\n",
      " 2: -1.6393e+01 -1.7360e+01  1e+00  6e-02  3e-02\n",
      " 3: -1.6400e+01 -1.6412e+01  1e-02  6e-04  3e-04\n",
      " 4: -1.6400e+01 -1.6400e+01  1e-04  6e-06  3e-06\n",
      " 5: -1.6400e+01 -1.6400e+01  1e-06  6e-08  3e-08\n",
      "Optimal solution found.\n",
      "status optimal\n",
      "     pcost       dcost       gap    pres   dres\n",
      " 0: -1.2576e+01 -1.2167e+01  2e+01  5e+00  2e+00\n",
      " 1: -1.4358e+01 -1.5666e+01  5e+00  1e+00  7e-01\n",
      " 2: -1.7770e+01 -1.9450e+01  2e+00  7e-02  4e-02\n",
      " 3: -1.7792e+01 -1.7817e+01  3e-02  8e-04  4e-04\n",
      " 4: -1.7792e+01 -1.7792e+01  3e-04  8e-06  4e-06\n",
      " 5: -1.7792e+01 -1.7792e+01  3e-06  8e-08  4e-08\n",
      "Optimal solution found.\n",
      "status optimal\n",
      "     pcost       dcost       gap    pres   dres\n",
      " 0: -1.2727e+01 -1.2644e+01  2e+01  4e+00  2e+00\n",
      " 1: -1.3850e+01 -1.5106e+01  4e+00  1e+00  6e-01\n",
      " 2: -1.5793e+01 -1.6348e+01  6e-01  5e-02  3e-02\n",
      " 3: -1.5794e+01 -1.5800e+01  7e-03  5e-04  3e-04\n",
      " 4: -1.5794e+01 -1.5794e+01  7e-05  5e-06  3e-06\n",
      " 5: -1.5794e+01 -1.5794e+01  7e-07  5e-08  3e-08\n",
      "Optimal solution found.\n",
      "status optimal\n",
      "     pcost       dcost       gap    pres   dres\n",
      " 0: -1.1783e+01 -1.1665e+01  2e+01  4e+00  2e+00\n",
      " 1: -1.2983e+01 -1.4250e+01  4e+00  1e+00  6e-01\n",
      " 2: -1.5098e+01 -1.5774e+01  8e-01  5e-02  3e-02\n",
      " 3: -1.5100e+01 -1.5109e+01  9e-03  6e-04  3e-04\n",
      " 4: -1.5100e+01 -1.5100e+01  9e-05  6e-06  3e-06\n",
      " 5: -1.5100e+01 -1.5100e+01  9e-07  6e-08  3e-08\n",
      "Optimal solution found.\n",
      "status optimal\n",
      "success\n",
      "Package 0 saved\n"
     ]
    },
    {
     "name": "stderr",
     "output_type": "stream",
     "text": [
      "\n"
     ]
    }
   ],
   "source": [
    "import os\n",
    "\n",
    "# directory = f'../../../../work/log1/darius.weber/Quadratic_Programming_Datasets/raw'\n",
    "directory = f'Quadratic_Programming_Datasets/raw'\n",
    "os.makedirs(directory, exist_ok=True)\n",
    "warnings.filterwarnings(\"error\")\n",
    "\n",
    "ips = []\n",
    "pkg_idx = 0 #identifier index\n",
    "success_cnt = 0\n",
    "fail_cnt = 0\n",
    "max_ipm_steps = 0\n",
    "\n",
    "\n",
    "max_iter = 100\n",
    "num = 10\n",
    "\n",
    "for i in tqdm(range(max_iter)):\n",
    "    Q, q, G, h, A, b, S = surrogate_gen()\n",
    "    try:\n",
    "        res = qp(Q, q, G, h, A, b, callback=lambda res: res)\n",
    "        max_ipm_steps = max(max_ipm_steps, res['iterations'])\n",
    "        print(\"status\",res['status'])\n",
    "    except Exception as e:\n",
    "        fail_cnt += 1\n",
    "        warnings.warn(f'Optimization failed with error: {str(e)}')\n",
    "        continue\n",
    "    else:\n",
    "        if res['status'] == 'optimal': #np.isnan(res.fun)?\n",
    "            #ips.append((torch.from_numpy(np.array(Q)).to(torch.float), torch.from_numpy(np.array(q)).to(torch.float), torch.from_numpy(np.array(G)).to(torch.float), torch.from_numpy(np.array(h)).to(torch.float), torch.from_numpy(np.array(A)).to(torch.float), torch.from_numpy(np.array(b)).to(torch.float), torch.from_numpy(np.array(S)).to(torch.float)))\n",
    "            ips.append((Q, q, G, h, A, b, S))\n",
    "            success_cnt += 1\n",
    "            \n",
    "    if len(ips) >= 1000 or success_cnt == num:\n",
    "        print(\"success\")\n",
    "        ips = [ip + (max_ipm_steps,) for ip in ips]\n",
    "        with gzip.open(f'{directory}/instance_{pkg_idx}.pkl.gz', \"wb\") as file:\n",
    "            pickle.dump(ips, file)\n",
    "            print(f'Package {pkg_idx} saved')\n",
    "            pkg_idx += 1\n",
    "\n",
    "        ips = []\n",
    "    if success_cnt >= num:\n",
    "        break\n",
    "warnings.resetwarnings()"
   ]
  },
  {
   "cell_type": "code",
   "execution_count": 4,
   "id": "e2721d626572439a",
   "metadata": {},
   "outputs": [
    {
     "name": "stdout",
     "output_type": "stream",
     "text": [
      "[(<6x6 matrix, tc='d'>, <6x1 matrix, tc='d'>, <9x6 matrix, tc='d'>, <9x1 matrix, tc='d'>, <0x6 matrix, tc='d'>, <0x1 matrix, tc='d'>, array([[1., 0., 0., 0., 0., 0.],\n",
      "       [0., 1., 0., 0., 0., 0.],\n",
      "       [0., 0., 1., 0., 0., 0.],\n",
      "       [0., 0., 0., 0., 0., 0.],\n",
      "       [0., 0., 0., 0., 0., 0.],\n",
      "       [0., 0., 0., 0., 0., 0.]]), 5), (<6x6 matrix, tc='d'>, <6x1 matrix, tc='d'>, <9x6 matrix, tc='d'>, <9x1 matrix, tc='d'>, <0x6 matrix, tc='d'>, <0x1 matrix, tc='d'>, array([[1., 0., 0., 0., 0., 0.],\n",
      "       [0., 1., 0., 0., 0., 0.],\n",
      "       [0., 0., 1., 0., 0., 0.],\n",
      "       [0., 0., 0., 0., 0., 0.],\n",
      "       [0., 0., 0., 0., 0., 0.],\n",
      "       [0., 0., 0., 0., 0., 0.]]), 5), (<6x6 matrix, tc='d'>, <6x1 matrix, tc='d'>, <9x6 matrix, tc='d'>, <9x1 matrix, tc='d'>, <0x6 matrix, tc='d'>, <0x1 matrix, tc='d'>, array([[1., 0., 0., 0., 0., 0.],\n",
      "       [0., 1., 0., 0., 0., 0.],\n",
      "       [0., 0., 1., 0., 0., 0.],\n",
      "       [0., 0., 0., 0., 0., 0.],\n",
      "       [0., 0., 0., 0., 0., 0.],\n",
      "       [0., 0., 0., 0., 0., 0.]]), 5), (<6x6 matrix, tc='d'>, <6x1 matrix, tc='d'>, <9x6 matrix, tc='d'>, <9x1 matrix, tc='d'>, <0x6 matrix, tc='d'>, <0x1 matrix, tc='d'>, array([[1., 0., 0., 0., 0., 0.],\n",
      "       [0., 1., 0., 0., 0., 0.],\n",
      "       [0., 0., 1., 0., 0., 0.],\n",
      "       [0., 0., 0., 0., 0., 0.],\n",
      "       [0., 0., 0., 0., 0., 0.],\n",
      "       [0., 0., 0., 0., 0., 0.]]), 5), (<6x6 matrix, tc='d'>, <6x1 matrix, tc='d'>, <9x6 matrix, tc='d'>, <9x1 matrix, tc='d'>, <0x6 matrix, tc='d'>, <0x1 matrix, tc='d'>, array([[1., 0., 0., 0., 0., 0.],\n",
      "       [0., 1., 0., 0., 0., 0.],\n",
      "       [0., 0., 1., 0., 0., 0.],\n",
      "       [0., 0., 0., 0., 0., 0.],\n",
      "       [0., 0., 0., 0., 0., 0.],\n",
      "       [0., 0., 0., 0., 0., 0.]]), 5), (<6x6 matrix, tc='d'>, <6x1 matrix, tc='d'>, <9x6 matrix, tc='d'>, <9x1 matrix, tc='d'>, <0x6 matrix, tc='d'>, <0x1 matrix, tc='d'>, array([[1., 0., 0., 0., 0., 0.],\n",
      "       [0., 1., 0., 0., 0., 0.],\n",
      "       [0., 0., 1., 0., 0., 0.],\n",
      "       [0., 0., 0., 0., 0., 0.],\n",
      "       [0., 0., 0., 0., 0., 0.],\n",
      "       [0., 0., 0., 0., 0., 0.]]), 5), (<6x6 matrix, tc='d'>, <6x1 matrix, tc='d'>, <9x6 matrix, tc='d'>, <9x1 matrix, tc='d'>, <0x6 matrix, tc='d'>, <0x1 matrix, tc='d'>, array([[1., 0., 0., 0., 0., 0.],\n",
      "       [0., 1., 0., 0., 0., 0.],\n",
      "       [0., 0., 1., 0., 0., 0.],\n",
      "       [0., 0., 0., 0., 0., 0.],\n",
      "       [0., 0., 0., 0., 0., 0.],\n",
      "       [0., 0., 0., 0., 0., 0.]]), 5), (<6x6 matrix, tc='d'>, <6x1 matrix, tc='d'>, <9x6 matrix, tc='d'>, <9x1 matrix, tc='d'>, <0x6 matrix, tc='d'>, <0x1 matrix, tc='d'>, array([[1., 0., 0., 0., 0., 0.],\n",
      "       [0., 1., 0., 0., 0., 0.],\n",
      "       [0., 0., 1., 0., 0., 0.],\n",
      "       [0., 0., 0., 0., 0., 0.],\n",
      "       [0., 0., 0., 0., 0., 0.],\n",
      "       [0., 0., 0., 0., 0., 0.]]), 5), (<6x6 matrix, tc='d'>, <6x1 matrix, tc='d'>, <9x6 matrix, tc='d'>, <9x1 matrix, tc='d'>, <0x6 matrix, tc='d'>, <0x1 matrix, tc='d'>, array([[1., 0., 0., 0., 0., 0.],\n",
      "       [0., 1., 0., 0., 0., 0.],\n",
      "       [0., 0., 1., 0., 0., 0.],\n",
      "       [0., 0., 0., 0., 0., 0.],\n",
      "       [0., 0., 0., 0., 0., 0.],\n",
      "       [0., 0., 0., 0., 0., 0.]]), 5), (<6x6 matrix, tc='d'>, <6x1 matrix, tc='d'>, <9x6 matrix, tc='d'>, <9x1 matrix, tc='d'>, <0x6 matrix, tc='d'>, <0x1 matrix, tc='d'>, array([[1., 0., 0., 0., 0., 0.],\n",
      "       [0., 1., 0., 0., 0., 0.],\n",
      "       [0., 0., 1., 0., 0., 0.],\n",
      "       [0., 0., 0., 0., 0., 0.],\n",
      "       [0., 0., 0., 0., 0., 0.],\n",
      "       [0., 0., 0., 0., 0., 0.]]), 5)]\n"
     ]
    }
   ],
   "source": [
    "# Open and load the .pkl.gz file\n",
    "pkg_idx = 1\n",
    "with gzip.open(f'Quadratic_Programming_Datasets/raw/instance_{pkg_idx-1}.pkl.gz', 'rb') as f:\n",
    "    data = pickle.load(f)\n",
    "\n",
    "# Now `data` contains the contents of the pickle file\n",
    "print(data)"
   ]
  },
  {
   "cell_type": "code",
   "execution_count": 8,
   "id": "da58a31599301d3b",
   "metadata": {
    "ExecuteTime": {
     "end_time": "2024-06-19T10:51:03.870539Z",
     "start_time": "2024-06-19T10:51:03.863323Z"
    }
   },
   "outputs": [],
   "source": []
  },
  {
   "cell_type": "code",
   "execution_count": null,
   "id": "78f1cd8d54d3c20d",
   "metadata": {},
   "outputs": [],
   "source": []
  }
 ],
 "metadata": {
  "kernelspec": {
   "display_name": "Python 3 (ipykernel)",
   "language": "python",
   "name": "python3"
  },
  "language_info": {
   "codemirror_mode": {
    "name": "ipython",
    "version": 3
   },
   "file_extension": ".py",
   "mimetype": "text/x-python",
   "name": "python",
   "nbconvert_exporter": "python",
   "pygments_lexer": "ipython3",
   "version": "3.12.3"
  }
 },
 "nbformat": 4,
 "nbformat_minor": 5
}
