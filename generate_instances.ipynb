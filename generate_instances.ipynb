{
 "cells": [
  {
   "metadata": {
    "ExecuteTime": {
     "end_time": "2024-06-19T10:51:02.090825Z",
     "start_time": "2024-06-19T10:51:02.083678Z"
    }
   },
   "cell_type": "code",
   "source": [
    "import numpy as np\n",
    "from tqdm import tqdm\n",
    "from solver.qp import qp\n",
    "import torch\n",
    "import gzip\n",
    "import pickle\n",
    "import warnings\n",
    "from generate_instances import generate_softmarginsvm"
   ],
   "id": "173af28e7d65bdd4",
   "outputs": [],
   "execution_count": 5
  },
  {
   "metadata": {},
   "cell_type": "markdown",
   "source": "### Soft margin Support Vector Machine",
   "id": "c5d11e2e014c6a03"
  },
  {
   "metadata": {
    "ExecuteTime": {
     "end_time": "2024-06-19T10:51:02.452939Z",
     "start_time": "2024-06-19T10:51:02.439338Z"
    }
   },
   "cell_type": "code",
   "source": [
    "def surrogate_gen():\n",
    "    C = 10 #regularization parameter\n",
    "    m = 4 #number of Datapoints\n",
    "    X = np.random.uniform(-1, 1, (m, 2)) #Dataset\n",
    "    bias = np.full((m, 1), 0.5)\n",
    "    X[:, 1] += bias.ravel()   # Adding a bias to make data linearly separable\n",
    "    y = np.array([1.0 if x[0] > x[1] else -1.0 for x in X]).reshape(m, 1) #label vector\n",
    "    X_dash = (y.reshape(-1,1) * 1.) * X #X_dash * X_dash^T = Q\n",
    "    Q, q, G, h, A, b = generate_softmarginsvm(y, X, X_dash, C)    \n",
    "    return Q, q, G, h, A, b, X_dash"
   ],
   "id": "c2209ef31c708a40",
   "outputs": [],
   "execution_count": 6
  },
  {
   "metadata": {},
   "cell_type": "markdown",
   "source": "### create",
   "id": "2743d542764c5370"
  },
  {
   "metadata": {
    "ExecuteTime": {
     "end_time": "2024-06-19T16:39:54.518246Z",
     "start_time": "2024-06-19T16:39:54.209422Z"
    }
   },
   "cell_type": "code",
   "source": [
    "import os\n",
    "\n",
    "directory = f'Quadratic_Programming_Datasets/raw'\n",
    "os.makedirs(directory, exist_ok=True)\n",
    "warnings.filterwarnings(\"error\")\n",
    "\n",
    "ips = []\n",
    "pkg_idx = 0 #identifier index\n",
    "success_cnt = 0\n",
    "fail_cnt = 0\n",
    "max_ipm_steps = 0\n",
    "\n",
    "\n",
    "max_iter = 100\n",
    "num = 10\n",
    "\n",
    "for i in tqdm(range(max_iter)):\n",
    "    Q, q, G, h, A, b, S = surrogate_gen()\n",
    "    \n",
    "    try:\n",
    "        res = qp(Q, q, G, h, A, b, callback=lambda res: res)\n",
    "        max_ipm_steps = max(max_ipm_steps, res['iterations'])\n",
    "        print(\"status\",res['status'])\n",
    "    except Exception as e:\n",
    "        fail_cnt += 1\n",
    "        warnings.warn(f'Optimization failed with error: {str(e)}')\n",
    "        continue\n",
    "    else:\n",
    "        if res['status'] == 'optimal': #np.isnan(res.fun)?\n",
    "            ips.append((torch.from_numpy(np.array(Q)).to(torch.float), torch.from_numpy(np.array(q)).to(torch.float), torch.from_numpy(np.array(G)).to(torch.float), torch.from_numpy(np.array(h)).to(torch.float), torch.from_numpy(np.array(A)).to(torch.float), torch.from_numpy(np.array(b)).to(torch.float), torch.from_numpy(np.array(S)).to(torch.float), res))\n",
    "            print(success_cnt)\n",
    "            success_cnt += 1\n",
    "            \n",
    "    if len(ips) >= 1000 or success_cnt == num:\n",
    "        print(\"success\")\n",
    "        ips = [ip + (max_ipm_steps,) for ip in ips]\n",
    "        with gzip.open(f'Quadratic_Programming_Datasets/raw/instance_{pkg_idx}.pkl.gz', \"wb\") as file:\n",
    "            pickle.dump(ips, file)\n",
    "            print(f'Package {pkg_idx} saved')\n",
    "            pkg_idx += 1\n",
    "\n",
    "        ips = []\n",
    "    if success_cnt >= num:\n",
    "        break\n",
    "warnings.resetwarnings()"
   ],
   "id": "7d554e7c00048391",
   "outputs": [
    {
     "name": "stderr",
     "output_type": "stream",
     "text": [
      "  9%|▉         | 9/100 [00:00<00:02, 40.64it/s]"
     ]
    },
    {
     "name": "stdout",
     "output_type": "stream",
     "text": [
      "     pcost       dcost       gap    pres   dres\n",
      " 0: -4.9198e-02 -1.2479e+02  1e+02  4e-16  1e-15\n",
      " 1: -9.3396e+00 -2.0742e+01  1e+01  9e-16  9e-16\n",
      " 2: -1.4638e+01 -1.6217e+01  2e+00  1e-16  2e-16\n",
      " 3: -1.4998e+01 -1.5084e+01  9e-02  2e-15  2e-16\n",
      " 4: -1.5023e+01 -1.5025e+01  1e-03  1e-15  4e-16\n",
      " 5: -1.5024e+01 -1.5024e+01  1e-05  4e-16  4e-16\n",
      "Optimal solution found.\n",
      "status optimal\n",
      "0\n",
      "     pcost       dcost       gap    pres   dres\n",
      " 0:  1.8673e+01 -9.6094e+01  1e+02  3e-17  1e-15\n",
      " 1:  2.4330e+00 -9.3512e+00  1e+01  1e-15  2e-15\n",
      " 2: -7.6971e-01 -2.2158e+00  1e+00  2e-16  5e-16\n",
      " 3: -1.0822e+00 -1.1878e+00  1e-01  2e-16  3e-16\n",
      " 4: -1.1482e+00 -1.1565e+00  8e-03  1e-16  3e-16\n",
      " 5: -1.1528e+00 -1.1537e+00  9e-04  1e-16  3e-16\n",
      " 6: -1.1535e+00 -1.1535e+00  4e-05  2e-16  7e-17\n",
      " 7: -1.1535e+00 -1.1535e+00  4e-07  1e-16  2e-16\n",
      "Optimal solution found.\n",
      "status optimal\n",
      "1\n",
      "     pcost       dcost       gap    pres   dres\n",
      " 0:  4.9520e-16 -4.0000e+01  9e+01  1e-01  0e+00\n",
      " 1:  7.1797e-17 -7.3007e-01  1e+00  1e-03  3e-15\n",
      " 2:  7.0029e-19 -7.3014e-03  1e-02  1e-05  4e-15\n",
      " 3:  7.0036e-21 -7.3014e-05  1e-04  1e-07  3e-15\n",
      " 4:  7.0036e-23 -7.3014e-07  1e-06  1e-09  2e-15\n",
      " 5:  7.0036e-25 -7.3014e-09  1e-08  1e-11  3e-15\n",
      "Optimal solution found.\n",
      "status optimal\n",
      "2\n",
      "     pcost       dcost       gap    pres   dres\n",
      " 0:  1.4334e+01 -9.9942e+01  1e+02  7e-16  1e-15\n",
      " 1:  2.4283e+00 -8.7868e+00  1e+01  2e-16  2e-15\n",
      " 2: -4.8105e-01 -1.8202e+00  1e+00  6e-16  2e-16\n",
      " 3: -7.3321e-01 -8.5171e-01  1e-01  2e-16  2e-16\n",
      " 4: -7.8764e-01 -7.9354e-01  6e-03  2e-16  1e-16\n",
      " 5: -7.9108e-01 -7.9114e-01  6e-05  2e-16  4e-17\n",
      " 6: -7.9112e-01 -7.9112e-01  6e-07  1e-16  9e-17\n",
      "Optimal solution found.\n",
      "status optimal\n",
      "3\n",
      "     pcost       dcost       gap    pres   dres\n",
      " 0:  1.0972e+01 -1.0029e+02  1e+02  4e-16  1e-15\n",
      " 1: -9.0795e-01 -1.0189e+01  9e+00  1e-16  8e-16\n",
      " 2: -3.6875e+00 -4.6425e+00  1e+00  2e-16  5e-16\n",
      " 3: -4.3447e+00 -4.4079e+00  6e-02  5e-16  4e-16\n",
      " 4: -4.3925e+00 -4.3943e+00  2e-03  8e-17  4e-16\n",
      " 5: -4.3941e+00 -4.3942e+00  2e-05  4e-16  7e-16\n",
      " 6: -4.3942e+00 -4.3942e+00  2e-07  4e-16  2e-16\n",
      "Optimal solution found.\n",
      "status optimal\n",
      "4\n",
      "     pcost       dcost       gap    pres   dres\n",
      " 0:  7.7832e+00 -9.1487e+01  1e+02  2e-15  4e-15\n",
      " 1: -5.2699e-01 -1.2058e+01  1e+01  1e-16  6e-16\n",
      " 2: -2.7103e+00 -3.9161e+00  1e+00  4e-16  3e-16\n",
      " 3: -2.7948e+00 -2.8521e+00  6e-02  2e-16  1e-16\n",
      " 4: -2.8213e+00 -2.8385e+00  2e-02  9e-16  2e-16\n",
      " 5: -2.8217e+00 -2.8218e+00  2e-04  1e-16  9e-17\n",
      " 6: -2.8217e+00 -2.8217e+00  2e-06  9e-16  1e-16\n",
      "Optimal solution found.\n",
      "status optimal\n",
      "5\n",
      "     pcost       dcost       gap    pres   dres\n",
      " 0:  5.5020e+00 -1.1858e+02  1e+02  5e-17  1e-15\n",
      " 1:  1.7643e-01 -1.3694e+01  1e+01  8e-16  9e-16\n",
      " 2: -2.3961e+00 -3.7073e+00  1e+00  1e-16  2e-16\n",
      " 3: -2.6851e+00 -2.8074e+00  1e-01  2e-16  9e-17\n",
      " 4: -2.7338e+00 -2.7436e+00  1e-02  3e-16  2e-16\n",
      " 5: -2.7377e+00 -2.7380e+00  3e-04  7e-16  2e-16\n",
      " 6: -2.7377e+00 -2.7378e+00  4e-06  3e-16  1e-16\n",
      " 7: -2.7377e+00 -2.7377e+00  4e-08  4e-16  1e-16\n",
      "Optimal solution found.\n",
      "status optimal\n",
      "6\n",
      "     pcost       dcost       gap    pres   dres\n",
      " 0:  1.6020e+01 -1.1376e+02  1e+02  9e-16  9e-16\n",
      " 1:  2.1231e+00 -1.1713e+01  1e+01  2e-16  2e-15\n",
      " 2: -1.2359e+00 -2.7827e+00  2e+00  7e-16  6e-16\n",
      " 3: -1.6055e+00 -1.7825e+00  2e-01  1e-16  2e-16\n",
      " 4: -1.7097e+00 -1.7230e+00  1e-02  2e-16  2e-16\n",
      " 5: -1.7189e+00 -1.7192e+00  4e-04  1e-16  3e-16\n",
      " 6: -1.7192e+00 -1.7192e+00  4e-06  2e-16  1e-16\n",
      " 7: -1.7192e+00 -1.7192e+00  4e-08  2e-16  5e-16\n",
      "Optimal solution found.\n",
      "status optimal\n",
      "7\n",
      "     pcost       dcost       gap    pres   dres\n",
      " 0:  1.3484e+01 -1.1304e+02  1e+02  9e-16  8e-16\n",
      " 1:  5.3463e-01 -1.0662e+01  1e+01  4e-16  2e-15\n",
      " 2: -2.4445e+00 -3.3758e+00  9e-01  4e-16  7e-16\n",
      " 3: -3.0653e+00 -3.0797e+00  1e-02  1e-16  3e-16\n",
      " 4: -3.0726e+00 -3.0728e+00  1e-04  4e-16  5e-16\n",
      " 5: -3.0727e+00 -3.0727e+00  1e-06  2e-16  5e-16\n",
      "Optimal solution found.\n",
      "status optimal\n",
      "8\n",
      "     pcost       dcost       gap    pres   dres\n",
      " 0:  1.6063e+01 -1.0413e+02  1e+02  4e-16  5e-16\n",
      " 1:  1.7903e+00 -1.0922e+01  1e+01  2e-16  1e-15\n",
      " 2: -1.4140e+00 -2.8251e+00  1e+00  2e-16  6e-16\n",
      " 3: -1.8882e+00 -2.0202e+00  1e-01  2e-16  3e-16\n",
      " 4: -1.9867e+00 -1.9910e+00  4e-03  9e-17  1e-16\n",
      " 5: -1.9903e+00 -1.9904e+00  5e-05  2e-16  1e-16\n",
      " 6: -1.9904e+00 -1.9904e+00  5e-07  2e-16  1e-16\n",
      "Optimal solution found.\n",
      "status optimal\n",
      "9\n",
      "success\n",
      "Package 0 saved\n"
     ]
    },
    {
     "name": "stderr",
     "output_type": "stream",
     "text": [
      "\n"
     ]
    }
   ],
   "execution_count": 29
  },
  {
   "metadata": {
    "ExecuteTime": {
     "end_time": "2024-06-19T10:51:03.855339Z",
     "start_time": "2024-06-19T10:51:03.529216Z"
    }
   },
   "cell_type": "code",
   "source": [
    "# Open and load the .pkl.gz file\n",
    "with gzip.open(f'Quadratic_Programming_Datasets/raw/instance_{pkg_idx-1}.pkl.gz', 'rb') as f:\n",
    "    data = pickle.load(f)\n",
    "\n",
    "# Now `data` contains the contents of the pickle file\n",
    "print(data)"
   ],
   "id": "e2721d626572439a",
   "outputs": [
    {
     "name": "stdout",
     "output_type": "stream",
     "text": [
      "[(tensor([[1.0531, 0.4732, 0.9198, 0.3978],\n",
      "        [0.4732, 1.1517, 0.1529, 0.2037],\n",
      "        [0.9198, 0.1529, 0.8756, 0.3406],\n",
      "        [0.3978, 0.2037, 0.3406, 0.1510]]), tensor([[-1.],\n",
      "        [-1.],\n",
      "        [-1.],\n",
      "        [-1.]]), tensor([[-1., -0., -0., -0.],\n",
      "        [-0., -1., -0., -0.],\n",
      "        [-0., -0., -1., -0.],\n",
      "        [-0., -0., -0., -1.],\n",
      "        [ 1.,  0.,  0.,  0.],\n",
      "        [ 0.,  1.,  0.,  0.],\n",
      "        [ 0.,  0.,  1.,  0.],\n",
      "        [ 0.,  0.,  0.,  1.]]), tensor([[ 0.],\n",
      "        [ 0.],\n",
      "        [ 0.],\n",
      "        [ 0.],\n",
      "        [10.],\n",
      "        [10.],\n",
      "        [10.],\n",
      "        [10.]]), tensor([[ 1., -1.,  1., -1.]]), tensor([[0.]]), tensor([[ 0.9648, -0.3497],\n",
      "        [ 0.1033, -1.0682],\n",
      "        [ 0.9342, -0.0528],\n",
      "        [ 0.3557, -0.1563]])), (tensor([[ 1.0200, -0.7671,  0.9404,  0.5987],\n",
      "        [-0.7671,  2.0544, -0.9839, -0.3177],\n",
      "        [ 0.9404, -0.9839,  0.9189,  0.5272],\n",
      "        [ 0.5987, -0.3177,  0.5272,  0.3633]]), tensor([[-1.],\n",
      "        [-1.],\n",
      "        [-1.],\n",
      "        [-1.]]), tensor([[-1., -0., -0., -0.],\n",
      "        [-0., -1., -0., -0.],\n",
      "        [-0., -0., -1., -0.],\n",
      "        [-0., -0., -0., -1.],\n",
      "        [ 1.,  0.,  0.,  0.],\n",
      "        [ 0.,  1.,  0.,  0.],\n",
      "        [ 0.,  0.,  1.,  0.],\n",
      "        [ 0.,  0.,  0.,  1.]]), tensor([[ 0.],\n",
      "        [ 0.],\n",
      "        [ 0.],\n",
      "        [ 0.],\n",
      "        [10.],\n",
      "        [10.],\n",
      "        [10.],\n",
      "        [10.]]), tensor([[ 1., -1.,  1.,  1.]]), tensor([[0.]]), tensor([[ 0.9663,  0.2938],\n",
      "        [-0.3730, -1.3839],\n",
      "        [ 0.8247,  0.4887],\n",
      "        [ 0.5989,  0.0682]]))]\n"
     ]
    }
   ],
   "execution_count": 8
  },
  {
   "metadata": {
    "ExecuteTime": {
     "end_time": "2024-06-19T10:51:03.870539Z",
     "start_time": "2024-06-19T10:51:03.863323Z"
    }
   },
   "cell_type": "code",
   "source": "",
   "id": "da58a31599301d3b",
   "outputs": [],
   "execution_count": 8
  },
  {
   "metadata": {},
   "cell_type": "code",
   "outputs": [],
   "execution_count": null,
   "source": "",
   "id": "78f1cd8d54d3c20d"
  }
 ],
 "metadata": {
  "kernelspec": {
   "display_name": "Python 3",
   "language": "python",
   "name": "python3"
  },
  "language_info": {
   "codemirror_mode": {
    "name": "ipython",
    "version": 2
   },
   "file_extension": ".py",
   "mimetype": "text/x-python",
   "name": "python",
   "nbconvert_exporter": "python",
   "pygments_lexer": "ipython2",
   "version": "2.7.6"
  }
 },
 "nbformat": 4,
 "nbformat_minor": 5
}
