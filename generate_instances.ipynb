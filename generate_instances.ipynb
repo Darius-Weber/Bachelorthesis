{
 "cells": [
  {
   "cell_type": "code",
   "id": "173af28e7d65bdd4",
   "metadata": {
    "ExecuteTime": {
     "end_time": "2024-07-04T17:35:13.922118Z",
     "start_time": "2024-07-04T17:35:08.775699Z"
    }
   },
   "source": [
    "import numpy as np\n",
    "from tqdm import tqdm\n",
    "from solver.qp import qp\n",
    "import pandas as pd\n",
    "import torch\n",
    "import gzip\n",
    "import pickle\n",
    "import warnings\n",
    "from generate_instances import generate_softmarginsvm, generate_markowitz_portfolio_optimization, generate_convex_function_to_data, generate_regressor_selection"
   ],
   "outputs": [],
   "execution_count": 1
  },
  {
   "cell_type": "markdown",
   "id": "c5d11e2e014c6a03",
   "metadata": {},
   "source": [
    "### Soft margin Support Vector Machine"
   ]
  },
  {
   "cell_type": "code",
   "id": "c2209ef31c708a40",
   "metadata": {
    "ExecuteTime": {
     "end_time": "2024-07-03T09:15:25.104086Z",
     "start_time": "2024-07-03T09:15:25.090997Z"
    }
   },
   "source": [
    "def surrogate_gen():\n",
    "    C = 10 #regularization parameter\n",
    "    m = 4 #number of Datapoints\n",
    "    X = np.random.uniform(-1, 1, (m, 2)) #Dataset\n",
    "    bias = np.full((m, 1), 0.5)\n",
    "    X[:, 1] += bias.ravel()   # Adding a bias to make data linearly separable\n",
    "    y = np.array([1.0 if x[0] > x[1] else -1.0 for x in X]).reshape(m, 1) #label vector\n",
    "    Q, q, G, h, A, b, S = generate_softmarginsvm(y, X, C)    \n",
    "    return Q, q, G, h, A, b, S"
   ],
   "outputs": [],
   "execution_count": 1
  },
  {
   "cell_type": "markdown",
   "id": "93c1650d9ef54eac",
   "metadata": {},
   "source": [
    "### Markowitz portfolio optimization"
   ]
  },
  {
   "cell_type": "code",
   "id": "75d7d68c8a4250be",
   "metadata": {
    "ExecuteTime": {
     "end_time": "2024-06-30T19:39:15.641419Z",
     "start_time": "2024-06-30T19:39:15.632027Z"
    }
   },
   "source": [
    "def surrogate_gen():\n",
    "    np.random.seed(1)\n",
    "    n_obs = 252\n",
    "    n_assets = 4\n",
    "    artificial_returns = np.random.randn(n_obs, n_assets) + 0.05 # minimum expected return\n",
    "    returns = pd.DataFrame(artificial_returns)\n",
    "    pbar = np.array(returns.mean()).reshape(1, -1)\n",
    "    r_min = pbar.mean() # minimum return threshold\n",
    "    Q, q, G, h, A, b, S = generate_markowitz_portfolio_optimization(artificial_returns, r_min, pbar)\n",
    "    return Q, q, G, h, A, b, S"
   ],
   "outputs": [],
   "execution_count": 2
  },
  {
   "metadata": {},
   "cell_type": "markdown",
   "source": "### Fiting convex function to given data",
   "id": "a09787a8adf0c02b"
  },
  {
   "metadata": {
    "ExecuteTime": {
     "end_time": "2024-07-04T14:51:41.452844Z",
     "start_time": "2024-07-04T14:51:41.360815Z"
    }
   },
   "cell_type": "code",
   "source": [
    "def surrogate_gen():\n",
    "    \n",
    "    # Generate 'u' values (from -2 to 2) for the independent variable\n",
    "    u_values = np.linspace(-2.0, 2.0, num=50).reshape(-1, 1)\n",
    "    Q, q, G, h, A, b, S = generate_convex_function_to_data(u_values)\n",
    "    return Q, q, G, h, A, b, S"
   ],
   "id": "2e8cbd4859c7b22",
   "outputs": [],
   "execution_count": 2
  },
  {
   "metadata": {},
   "cell_type": "markdown",
   "source": "### Regressor selection problem",
   "id": "8b781b09b289bfa7"
  },
  {
   "metadata": {
    "ExecuteTime": {
     "end_time": "2024-07-04T17:41:23.490410Z",
     "start_time": "2024-07-04T17:41:23.262721Z"
    }
   },
   "cell_type": "code",
   "source": [
    "def surrogate_gen():\n",
    "    \n",
    "    # Set dimensions\n",
    "    m = 10  # number of rows for A\n",
    "    n = 20  # number of columns for A\n",
    "    nopts = 100 # range of alpha values\n",
    "    alpha_index = np.random.randint(0, nopts) # Select an alpha value from the range nopts\n",
    "    Q, q, G, h, A, b, S = generate_regressor_selection(alpha_index, m, n)\n",
    "    \n",
    "    return Q, q, G, h, A, b, S"
   ],
   "id": "ebeae10144d38b57",
   "outputs": [],
   "execution_count": 4
  },
  {
   "cell_type": "markdown",
   "id": "2743d542764c5370",
   "metadata": {},
   "source": [
    "### create"
   ]
  },
  {
   "cell_type": "code",
   "id": "7d554e7c00048391",
   "metadata": {
    "ExecuteTime": {
     "end_time": "2024-07-04T17:41:26.374815Z",
     "start_time": "2024-07-04T17:41:25.829329Z"
    }
   },
   "source": [
    "import os\n",
    "\n",
    "# directory = f'../../../../work/log1/darius.weber/Quadratic_Programming_Datasets/raw'\n",
    "directory = f'Quadratic_Programming_Datasets/raw'\n",
    "os.makedirs(directory, exist_ok=True)\n",
    "warnings.filterwarnings(\"error\")\n",
    "\n",
    "ips = []\n",
    "pkg_idx = 0 #identifier index\n",
    "success_cnt = 0\n",
    "fail_cnt = 0\n",
    "max_ipm_steps = 0\n",
    "\n",
    "\n",
    "max_iter = 100\n",
    "num = 10\n",
    "\n",
    "for i in tqdm(range(max_iter)):\n",
    "    Q, q, G, h, A, b, S = surrogate_gen()\n",
    "    print(np.array(A).size)\n",
    "    try:\n",
    "        res = qp(Q, q, G, h, A, b, callback=lambda res: res)\n",
    "        max_ipm_steps = max(max_ipm_steps, res['iterations'])\n",
    "        print(\"status\",res['status'])\n",
    "    except Exception as e:\n",
    "        fail_cnt += 1\n",
    "        warnings.warn(f'Optimization failed with error: {str(e)}')\n",
    "        continue\n",
    "    else:\n",
    "        if res['status'] == 'optimal': #np.isnan(res.fun)?\n",
    "            ips.append((torch.from_numpy(np.array(Q)).to(torch.float), torch.from_numpy(np.array(q)).to(torch.float), torch.from_numpy(np.array(G)).to(torch.float), torch.from_numpy(np.array(h)).to(torch.float), torch.from_numpy(np.array(A)).to(torch.float), torch.from_numpy(np.array(b)).to(torch.float), torch.from_numpy(np.array(S)).to(torch.float), res))\n",
    "            print(success_cnt)\n",
    "            success_cnt += 1\n",
    "            \n",
    "    if len(ips) >= 1000 or success_cnt == num:\n",
    "        print(\"success\")\n",
    "        ips = [ip + (max_ipm_steps,) for ip in ips]\n",
    "        with gzip.open(f'{directory}/instance_{pkg_idx}.pkl.gz', \"wb\") as file:\n",
    "            pickle.dump(ips, file)\n",
    "            print(f'Package {pkg_idx} saved')\n",
    "            pkg_idx += 1\n",
    "\n",
    "        ips = []\n",
    "    if success_cnt >= num:\n",
    "        break\n",
    "warnings.resetwarnings()"
   ],
   "outputs": [
    {
     "name": "stderr",
     "output_type": "stream",
     "text": [
      "  8%|▊         | 8/100 [00:00<00:02, 42.35it/s]"
     ]
    },
    {
     "name": "stdout",
     "output_type": "stream",
     "text": [
      "0\n",
      "     pcost       dcost       gap    pres   dres\n",
      " 0: -2.4960e+00 -5.3688e+00  6e+01  5e+00  6e-01\n",
      " 1: -2.2502e+00 -4.9625e+00  8e+00  5e-01  5e-02\n",
      " 2: -1.9750e+00 -3.0145e+00  1e+00  2e-02  2e-03\n",
      " 3: -2.2953e+00 -2.5385e+00  2e-01  9e-17  1e-15\n",
      " 4: -2.4141e+00 -2.4582e+00  4e-02  3e-16  6e-16\n",
      " 5: -2.4369e+00 -2.4426e+00  6e-03  2e-16  3e-16\n",
      " 6: -2.4408e+00 -2.4409e+00  1e-04  1e-16  5e-16\n",
      " 7: -2.4409e+00 -2.4409e+00  1e-06  2e-16  3e-15\n",
      "Optimal solution found.\n",
      "status optimal\n",
      "0\n",
      "0\n",
      "     pcost       dcost       gap    pres   dres\n",
      " 0: -2.2465e+00 -7.0390e+00  6e+01  3e+00  7e-01\n",
      " 1: -1.9771e+00 -6.5663e+00  8e+00  2e-01  4e-02\n",
      " 2: -1.9771e+00 -3.2771e+00  2e+00  3e-02  6e-03\n",
      " 3: -2.2679e+00 -2.6511e+00  4e-01  9e-17  1e-15\n",
      " 4: -2.3334e+00 -2.3935e+00  6e-02  2e-16  2e-16\n",
      " 5: -2.3464e+00 -2.3576e+00  1e-02  2e-16  1e-16\n",
      " 6: -2.3480e+00 -2.3493e+00  1e-03  3e-16  1e-16\n",
      " 7: -2.3481e+00 -2.3481e+00  4e-05  1e-16  2e-16\n",
      " 8: -2.3481e+00 -2.3481e+00  4e-07  3e-16  2e-16\n",
      "Optimal solution found.\n",
      "status optimal\n",
      "1\n",
      "0\n",
      "     pcost       dcost       gap    pres   dres\n",
      " 0: -5.4455e+00 -8.7934e+00  6e+01  4e+00  3e-01\n",
      " 1: -5.2310e+00 -8.1497e+00  9e+00  4e-01  3e-02\n",
      " 2: -4.8977e+00 -5.8893e+00  1e+00  3e-02  3e-03\n",
      " 3: -5.1743e+00 -5.4297e+00  3e-01  4e-03  3e-04\n",
      " 4: -5.2902e+00 -5.3400e+00  5e-02  5e-04  3e-05\n",
      " 5: -5.3276e+00 -5.3311e+00  4e-03  3e-06  2e-07\n",
      " 6: -5.3304e+00 -5.3305e+00  4e-05  3e-08  2e-09\n",
      " 7: -5.3305e+00 -5.3305e+00  4e-07  3e-10  2e-11\n",
      "Optimal solution found.\n",
      "status optimal\n",
      "2\n",
      "0\n",
      "     pcost       dcost       gap    pres   dres\n",
      " 0: -6.3320e+00 -1.4128e+01  8e+01  2e+00  5e-01\n",
      " 1: -5.9891e+00 -1.2862e+01  1e+01  2e-01  3e-02\n",
      " 2: -6.0301e+00 -7.7120e+00  2e+00  2e-02  3e-03\n",
      " 3: -6.3883e+00 -6.7711e+00  4e-01  6e-04  1e-04\n",
      " 4: -6.4487e+00 -6.4965e+00  5e-02  3e-16  2e-16\n",
      " 5: -6.4515e+00 -6.4532e+00  2e-03  3e-16  1e-16\n",
      " 6: -6.4515e+00 -6.4515e+00  2e-05  2e-16  2e-16\n",
      " 7: -6.4515e+00 -6.4515e+00  2e-07  3e-16  1e-16\n",
      "Optimal solution found.\n",
      "status optimal\n",
      "3\n",
      "0\n",
      "     pcost       dcost       gap    pres   dres\n",
      " 0: -5.4600e+00 -1.2405e+01  8e+01  3e+00  4e-01\n",
      " 1: -5.1260e+00 -1.1475e+01  1e+01  2e-01  3e-02\n",
      " 2: -5.2118e+00 -7.1155e+00  2e+00  3e-02  4e-03\n",
      " 3: -5.5222e+00 -5.9449e+00  4e-01  1e-03  2e-04\n",
      " 4: -5.5830e+00 -5.6599e+00  8e-02  2e-04  2e-05\n",
      " 5: -5.5903e+00 -5.5984e+00  8e-03  7e-17  2e-16\n",
      " 6: -5.5904e+00 -5.5905e+00  1e-04  3e-16  2e-16\n",
      " 7: -5.5904e+00 -5.5904e+00  1e-06  2e-16  2e-16\n",
      "Optimal solution found.\n",
      "status optimal\n",
      "4\n",
      "0\n",
      "     pcost       dcost       gap    pres   dres\n",
      " 0: -5.2707e+00 -6.8651e+00  8e+01  9e+00  4e-01\n",
      " 1: -4.8723e+00 -5.9786e+00  1e+01  1e+00  5e-02\n",
      " 2: -3.8551e+00 -4.3721e+00  1e+00  9e-02  4e-03\n",
      " 3: -3.9467e+00 -4.1021e+00  2e-01  4e-03  2e-04\n",
      " 4: -4.0542e+00 -4.0673e+00  1e-02  1e-04  4e-06\n",
      " 5: -4.0650e+00 -4.0653e+00  2e-04  1e-06  6e-08\n",
      " 6: -4.0652e+00 -4.0652e+00  2e-06  1e-08  6e-10\n",
      "Optimal solution found.\n",
      "status optimal\n",
      "5\n",
      "0\n",
      "     pcost       dcost       gap    pres   dres\n",
      " 0: -8.7603e+00 -1.6083e+01  1e+02  3e+00  4e-01\n",
      " 1: -7.8760e+00 -1.4550e+01  1e+01  2e-01  4e-02\n",
      " 2: -7.7683e+00 -9.9261e+00  3e+00  4e-02  5e-03\n",
      " 3: -8.3355e+00 -9.0417e+00  8e-01  9e-03  1e-03\n",
      " 4: -8.6858e+00 -8.8618e+00  2e-01  2e-16  2e-15\n",
      " 5: -8.7862e+00 -8.8004e+00  1e-02  1e-16  6e-16\n",
      " 6: -8.7955e+00 -8.7960e+00  4e-04  2e-16  8e-16\n",
      " 7: -8.7957e+00 -8.7958e+00  3e-05  3e-16  2e-14\n",
      " 8: -8.7957e+00 -8.7957e+00  4e-06  3e-16  1e-12\n",
      "Optimal solution found.\n",
      "status optimal\n",
      "6\n",
      "0\n",
      "     pcost       dcost       gap    pres   dres\n",
      " 0: -3.3001e+00 -4.4110e+00  7e+01  8e+00  5e-01\n",
      " 1: -2.9150e+00 -3.7075e+00  9e+00  9e-01  6e-02\n",
      " 2: -2.0786e+00 -2.6625e+00  9e-01  4e-02  2e-03\n",
      " 3: -2.3237e+00 -2.4716e+00  1e-01  2e-16  9e-15\n",
      " 4: -2.4145e+00 -2.4212e+00  7e-03  3e-16  3e-15\n",
      " 5: -2.4201e+00 -2.4202e+00  1e-04  2e-16  1e-14\n",
      " 6: -2.4202e+00 -2.4202e+00  1e-06  2e-16  1e-14\n",
      "Optimal solution found.\n",
      "status optimal\n",
      "7\n",
      "0\n",
      "     pcost       dcost       gap    pres   dres\n",
      " 0: -3.1798e+00 -6.4488e+00  7e+01  5e+00  6e-01\n",
      " 1: -2.9495e+00 -5.8610e+00  9e+00  5e-01  6e-02\n",
      " 2: -2.6712e+00 -4.0116e+00  2e+00  7e-02  1e-02\n",
      " 3: -2.9187e+00 -3.3275e+00  5e-01  9e-03  1e-03\n",
      " 4: -3.0880e+00 -3.1842e+00  1e-01  5e-04  7e-05\n",
      " 5: -3.1381e+00 -3.1566e+00  2e-02  6e-05  8e-06\n",
      " 6: -3.1515e+00 -3.1528e+00  1e-03  2e-16  7e-16\n",
      " 7: -3.1525e+00 -3.1525e+00  2e-05  2e-16  1e-15\n",
      " 8: -3.1525e+00 -3.1525e+00  2e-07  3e-16  3e-15\n",
      "Optimal solution found.\n",
      "status optimal\n",
      "8\n",
      "0\n",
      "     pcost       dcost       gap    pres   dres\n",
      " 0: -3.0120e+00 -2.8026e+00  7e+01  8e+00  6e-01\n",
      " 1: -2.6630e+00 -1.9475e+00  9e+00  1e+00  7e-02\n",
      " 2: -1.3591e+00 -1.0430e+00  1e+00  1e-01  8e-03\n",
      " 3: -7.6422e-01 -8.3737e-01  7e-02  6e-17  2e-15\n",
      " 4: -8.0331e-01 -8.0904e-01  6e-03  1e-16  1e-14\n",
      " 5: -8.0701e-01 -8.0718e-01  2e-04  9e-17  8e-14\n",
      " 6: -8.0708e-01 -8.0708e-01  2e-06  7e-17  3e-13\n",
      " 7: -8.0708e-01 -8.0708e-01  2e-08  5e-17  7e-13\n",
      "Optimal solution found.\n",
      "status optimal\n",
      "9\n",
      "success\n"
     ]
    },
    {
     "name": "stderr",
     "output_type": "stream",
     "text": [
      "  9%|▉         | 9/100 [00:00<00:04, 19.44it/s]"
     ]
    },
    {
     "name": "stdout",
     "output_type": "stream",
     "text": [
      "Package 0 saved\n"
     ]
    },
    {
     "name": "stderr",
     "output_type": "stream",
     "text": [
      "\n"
     ]
    }
   ],
   "execution_count": 5
  },
  {
   "cell_type": "code",
   "execution_count": null,
   "id": "e2721d626572439a",
   "metadata": {},
   "outputs": [],
   "source": [
    "# Open and load the .pkl.gz file\n",
    "with gzip.open(f'Quadratic_Programming_Datasets/raw/instance_{pkg_idx-1}.pkl.gz', 'rb') as f:\n",
    "    data = pickle.load(f)\n",
    "\n",
    "# Now `data` contains the contents of the pickle file\n",
    "print(data)"
   ]
  },
  {
   "cell_type": "code",
   "execution_count": 8,
   "id": "da58a31599301d3b",
   "metadata": {
    "ExecuteTime": {
     "end_time": "2024-06-19T10:51:03.870539Z",
     "start_time": "2024-06-19T10:51:03.863323Z"
    }
   },
   "outputs": [],
   "source": []
  },
  {
   "cell_type": "code",
   "execution_count": null,
   "id": "78f1cd8d54d3c20d",
   "metadata": {},
   "outputs": [],
   "source": []
  }
 ],
 "metadata": {
  "kernelspec": {
   "display_name": "Python 3 (ipykernel)",
   "language": "python",
   "name": "python3"
  },
  "language_info": {
   "codemirror_mode": {
    "name": "ipython",
    "version": 3
   },
   "file_extension": ".py",
   "mimetype": "text/x-python",
   "name": "python",
   "nbconvert_exporter": "python",
   "pygments_lexer": "ipython3",
   "version": "3.12.3"
  }
 },
 "nbformat": 4,
 "nbformat_minor": 5
}
