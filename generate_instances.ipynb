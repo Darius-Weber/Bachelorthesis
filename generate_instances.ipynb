{
 "cells": [
  {
   "cell_type": "code",
   "id": "173af28e7d65bdd4",
   "metadata": {
    "ExecuteTime": {
     "end_time": "2024-07-08T18:57:57.705104Z",
     "start_time": "2024-07-08T18:57:40.736532Z"
    }
   },
   "source": [
    "import numpy as np\n",
    "from tqdm import tqdm\n",
    "from solver.qp import qp\n",
    "import pandas as pd\n",
    "import torch\n",
    "import gzip\n",
    "import pickle\n",
    "import warnings\n",
    "from generate_instances import generate_softmarginsvm, generate_markowitz_portfolio_optimization, generate_convex_function_to_data, generate_regressor_selection"
   ],
   "outputs": [],
   "execution_count": 1
  },
  {
   "cell_type": "markdown",
   "id": "c5d11e2e014c6a03",
   "metadata": {},
   "source": [
    "### Soft margin Support Vector Machine"
   ]
  },
  {
   "cell_type": "code",
   "id": "c2209ef31c708a40",
   "metadata": {
    "ExecuteTime": {
     "end_time": "2024-07-08T18:31:29.542260Z",
     "start_time": "2024-07-08T18:31:29.533931Z"
    }
   },
   "source": [
    "def surrogate_gen():\n",
    "    NUM = 500 # Number of points\n",
    "    DIM = 2 # Dimension of the points\n",
    "    C = 10 # regularization parameter (hardness of the margin)\n",
    "    \n",
    "    \n",
    "    # 2-D mean of ones\n",
    "    M1 = np.ones((DIM,))\n",
    "    # 2-D mean of threes\n",
    "    M2 = 3 * np.ones((DIM,))\n",
    "    # 2-D covariance of 0.3\n",
    "    C1 = np.diag(0.3 * np.ones((DIM,)))\n",
    "    # 2-D covariance of 0.2\n",
    "    C2 = np.diag(0.2 * np.ones((DIM,)))\n",
    "\n",
    "    # generate 50 points from gaussian 1\n",
    "    x1 = np.random.multivariate_normal(M1, C1, NUM) #generate gaussian\n",
    "    # labels\n",
    "    y1 = np.ones((x1.shape[0],))\n",
    "    # generate 50 points from gaussian 2\n",
    "    x2 = np.random.multivariate_normal(M2, C2, NUM)\n",
    "    y2 = -np.ones((x2.shape[0],))\n",
    "    # join\n",
    "    X = np.concatenate((x1, x2), axis = 0)\n",
    "    y = np.concatenate((y1, y2), axis = 0)\n",
    "\n",
    "    Q, q, G, h, A, b, S = generate_softmarginsvm(y, X, C)    \n",
    "    return Q, q, G, h, A, b, S"
   ],
   "outputs": [],
   "execution_count": 3
  },
  {
   "cell_type": "markdown",
   "id": "93c1650d9ef54eac",
   "metadata": {},
   "source": [
    "### Markowitz portfolio optimization"
   ]
  },
  {
   "cell_type": "code",
   "id": "75d7d68c8a4250be",
   "metadata": {
    "ExecuteTime": {
     "end_time": "2024-07-08T19:11:22.482886Z",
     "start_time": "2024-07-08T19:11:22.468223Z"
    }
   },
   "source": [
    "def surrogate_gen():\n",
    "    np.random.seed(1)\n",
    "    n_obs = 252\n",
    "    n_assets = 100\n",
    "    artificial_returns = np.random.randn(n_obs, n_assets) + 0.05 # minimum expected return\n",
    "    returns = pd.DataFrame(artificial_returns)\n",
    "    pbar = np.array(returns.mean()).reshape(1, -1)\n",
    "    r_min = pbar.mean() # minimum return threshold\n",
    "    Q, q, G, h, A, b, S = generate_markowitz_portfolio_optimization(artificial_returns, r_min, pbar)\n",
    "    return Q, q, G, h, A, b, S"
   ],
   "outputs": [],
   "execution_count": 7
  },
  {
   "metadata": {},
   "cell_type": "markdown",
   "source": "### Fiting convex function to given data",
   "id": "a09787a8adf0c02b"
  },
  {
   "metadata": {
    "ExecuteTime": {
     "end_time": "2024-07-08T19:15:26.706227Z",
     "start_time": "2024-07-08T19:15:26.635017Z"
    }
   },
   "cell_type": "code",
   "source": [
    "def surrogate_gen():\n",
    "    \n",
    "    # Generate 'u' values (from -2 to 2) for the independent variable\n",
    "    NUM = 100\n",
    "    u_values = np.linspace(-2.0, 2.0, num=NUM).reshape(-1, 1)\n",
    "    Q, q, G, h, A, b, S = generate_convex_function_to_data(u_values)\n",
    "    return Q, q, G, h, A, b, S"
   ],
   "id": "2e8cbd4859c7b22",
   "outputs": [],
   "execution_count": 11
  },
  {
   "metadata": {},
   "cell_type": "markdown",
   "source": "### Regressor selection problem",
   "id": "8b781b09b289bfa7"
  },
  {
   "metadata": {
    "ExecuteTime": {
     "end_time": "2024-07-08T19:16:00.340794Z",
     "start_time": "2024-07-08T19:16:00.319781Z"
    }
   },
   "cell_type": "code",
   "source": [
    "def surrogate_gen():\n",
    "    \n",
    "    # Set dimensions\n",
    "    m = 10  # number of rows for A\n",
    "    n = 20  # number of columns for A\n",
    "    nopts = 100 # range of alpha values\n",
    "    alpha_index = np.random.randint(0, nopts) # Select an alpha value from the range nopts\n",
    "    Q, q, G, h, A, b, S = generate_regressor_selection(alpha_index, m, n)\n",
    "    \n",
    "    return Q, q, G, h, A, b, S"
   ],
   "id": "ebeae10144d38b57",
   "outputs": [],
   "execution_count": 13
  },
  {
   "cell_type": "markdown",
   "id": "2743d542764c5370",
   "metadata": {},
   "source": [
    "### create"
   ]
  },
  {
   "cell_type": "code",
   "id": "7d554e7c00048391",
   "metadata": {
    "ExecuteTime": {
     "end_time": "2024-07-08T19:16:07.512385Z",
     "start_time": "2024-07-08T19:16:07.119490Z"
    }
   },
   "source": [
    "import os\n",
    "\n",
    "# directory = f'../../../../work/log1/darius.weber/Quadratic_Programming_Datasets/raw'\n",
    "directory = f'Quadratic_Programming_Datasets/raw'\n",
    "os.makedirs(directory, exist_ok=True)\n",
    "warnings.filterwarnings(\"error\")\n",
    "\n",
    "ips = []\n",
    "pkg_idx = 3 #identifier index\n",
    "success_cnt = 0\n",
    "fail_cnt = 0\n",
    "max_ipm_steps = 0\n",
    "\n",
    "\n",
    "max_iter = 100\n",
    "num = 10\n",
    "\n",
    "for i in tqdm(range(max_iter)):\n",
    "    Q, q, G, h, A, b, S = surrogate_gen()\n",
    "    print(np.array(A).size)\n",
    "    try:\n",
    "        res = qp(Q, q, G, h, A, b, callback=lambda res: res)\n",
    "        max_ipm_steps = max(max_ipm_steps, res['iterations'])\n",
    "        print(\"status\",res['status'])\n",
    "    except Exception as e:\n",
    "        fail_cnt += 1\n",
    "        warnings.warn(f'Optimization failed with error: {str(e)}')\n",
    "        continue\n",
    "    else:\n",
    "        if res['status'] == 'optimal': #np.isnan(res.fun)?\n",
    "            ips.append((torch.from_numpy(np.array(Q)).to(torch.float), torch.from_numpy(np.array(q)).to(torch.float), torch.from_numpy(np.array(G)).to(torch.float), torch.from_numpy(np.array(h)).to(torch.float), torch.from_numpy(np.array(A)).to(torch.float), torch.from_numpy(np.array(b)).to(torch.float), torch.from_numpy(np.array(S)).to(torch.float), res))\n",
    "            print(success_cnt)\n",
    "            success_cnt += 1\n",
    "            \n",
    "    if len(ips) >= 1000 or success_cnt == num:\n",
    "        print(\"success\")\n",
    "        ips = [ip + (max_ipm_steps,) for ip in ips]\n",
    "        with gzip.open(f'{directory}/instance_{pkg_idx}.pkl.gz', \"wb\") as file:\n",
    "            pickle.dump(ips, file)\n",
    "            print(f'Package {pkg_idx} saved')\n",
    "            pkg_idx += 1\n",
    "\n",
    "        ips = []\n",
    "    if success_cnt >= num:\n",
    "        break\n",
    "warnings.resetwarnings()"
   ],
   "outputs": [
    {
     "name": "stderr",
     "output_type": "stream",
     "text": [
      "  4%|▍         | 4/100 [00:00<00:02, 36.06it/s]"
     ]
    },
    {
     "name": "stdout",
     "output_type": "stream",
     "text": [
      "0\n",
      "     pcost       dcost       gap    pres   dres\n",
      " 0: -1.0006e+01 -1.0659e+01  1e+02  1e+01  4e-01\n",
      " 1: -8.5844e+00 -8.9184e+00  2e+01  1e+00  5e-02\n",
      " 2: -6.5641e+00 -6.5215e+00  3e+00  2e-01  6e-03\n",
      " 3: -5.9155e+00 -5.9794e+00  4e-01  2e-02  7e-04\n",
      " 4: -5.9064e+00 -5.9168e+00  2e-02  1e-03  3e-05\n",
      " 5: -5.9113e+00 -5.9122e+00  1e-03  2e-05  8e-07\n",
      " 6: -5.9117e+00 -5.9117e+00  7e-05  3e-07  1e-08\n",
      " 7: -5.9117e+00 -5.9117e+00  1e-06  3e-09  1e-10\n",
      "Optimal solution found.\n",
      "status optimal\n",
      "0\n",
      "0\n",
      "     pcost       dcost       gap    pres   dres\n",
      " 0: -6.7306e+00 -8.3174e+00  1e+02  1e+01  4e-01\n",
      " 1: -6.2364e+00 -7.2419e+00  2e+01  1e+00  4e-02\n",
      " 2: -4.8178e+00 -5.1547e+00  3e+00  2e-01  7e-03\n",
      " 3: -4.2548e+00 -4.4072e+00  3e-01  2e-02  6e-04\n",
      " 4: -4.3214e+00 -4.3433e+00  2e-02  2e-05  6e-07\n",
      " 5: -4.3365e+00 -4.3374e+00  1e-03  2e-07  8e-09\n",
      " 6: -4.3372e+00 -4.3372e+00  4e-05  4e-09  1e-10\n",
      " 7: -4.3372e+00 -4.3372e+00  5e-07  4e-11  2e-12\n",
      "Optimal solution found.\n",
      "status optimal\n",
      "1\n",
      "0\n",
      "     pcost       dcost       gap    pres   dres\n",
      " 0: -1.0917e+01 -1.6274e+01  1e+02  4e+00  2e-01\n",
      " 1: -1.0461e+01 -1.5260e+01  1e+01  3e-01  2e-02\n",
      " 2: -1.0098e+01 -1.1918e+01  3e+00  4e-02  2e-03\n",
      " 3: -1.0399e+01 -1.0940e+01  6e-01  8e-03  5e-04\n",
      " 4: -1.0590e+01 -1.0730e+01  1e-01  9e-04  6e-05\n",
      " 5: -1.0663e+01 -1.0685e+01  2e-02  7e-05  4e-06\n",
      " 6: -1.0675e+01 -1.0679e+01  4e-03  9e-06  5e-07\n",
      " 7: -1.0677e+01 -1.0678e+01  5e-04  1e-06  7e-08\n",
      " 8: -1.0678e+01 -1.0678e+01  2e-05  3e-08  2e-09\n",
      " 9: -1.0678e+01 -1.0678e+01  3e-07  4e-10  2e-11\n",
      "Optimal solution found.\n",
      "status optimal\n",
      "2\n",
      "0\n",
      "     pcost       dcost       gap    pres   dres\n",
      " 0: -8.6375e+00 -2.2515e+01  1e+02  1e+00  3e-01\n",
      " 1: -8.1502e+00 -2.0259e+01  1e+01  1e-02  2e-03\n",
      " 2: -8.4837e+00 -1.0780e+01  2e+00  2e-03  4e-04\n",
      " 3: -8.8935e+00 -9.6285e+00  7e-01  3e-04  7e-05\n",
      " 4: -9.0738e+00 -9.2639e+00  2e-01  2e-05  4e-06\n",
      " 5: -9.1251e+00 -9.1900e+00  6e-02  5e-07  1e-07\n",
      " 6: -9.1421e+00 -9.1579e+00  2e-02  1e-07  3e-08\n",
      " 7: -9.1477e+00 -9.1528e+00  5e-03  6e-09  1e-09\n",
      " 8: -9.1500e+00 -9.1505e+00  5e-04  5e-10  1e-10\n",
      " 9: -9.1503e+00 -9.1503e+00  7e-06  6e-12  1e-12\n",
      "Optimal solution found.\n",
      "status optimal\n",
      "3\n",
      "0\n",
      "     pcost       dcost       gap    pres   dres\n",
      " 0: -1.1166e+01 -3.5216e+01  1e+02  1e+00  5e-01\n",
      " 1: -1.0079e+01 -3.0161e+01  2e+01  5e-16  3e-16\n",
      " 2: -1.1066e+01 -1.5267e+01  4e+00  2e-16  3e-16\n",
      " 3: -1.1998e+01 -1.2987e+01  1e+00  2e-16  4e-16\n",
      " 4: -1.2272e+01 -1.2428e+01  2e-01  7e-17  4e-16\n",
      " 5: -1.2344e+01 -1.2365e+01  2e-02  2e-16  4e-16\n",
      " 6: -1.2355e+01 -1.2360e+01  5e-03  2e-16  4e-16\n",
      " 7: -1.2359e+01 -1.2359e+01  9e-04  9e-17  4e-16\n",
      " 8: -1.2359e+01 -1.2359e+01  9e-06  1e-16  3e-16\n",
      "Optimal solution found.\n",
      "status optimal\n",
      "4\n",
      "0\n",
      "     pcost       dcost       gap    pres   dres\n",
      " 0: -9.7020e+00 -1.2364e+01  1e+02  7e+00  3e-01\n",
      " 1: -8.8639e+00 -1.1032e+01  2e+01  8e-01  3e-02\n",
      " 2: -7.5087e+00 -8.4072e+00  3e+00  1e-01  4e-03\n",
      " 3: -7.3755e+00 -7.6098e+00  4e-01  1e-02  5e-04\n",
      " 4: -7.4853e+00 -7.5173e+00  5e-02  1e-03  4e-05\n",
      " 5: -7.5058e+00 -7.5082e+00  3e-03  4e-05  1e-06\n",
      " 6: -7.5075e+00 -7.5076e+00  1e-04  8e-07  4e-08\n",
      " 7: -7.5076e+00 -7.5076e+00  6e-06  1e-08  6e-10\n",
      "Optimal solution found.\n",
      "status optimal\n",
      "5\n",
      "0\n",
      "     pcost       dcost       gap    pres   dres\n",
      " 0: -1.0398e+01 -1.1350e+01  1e+02  9e+00  3e-01\n",
      " 1: -9.3255e+00 -9.6497e+00  2e+01  1e+00  3e-02\n",
      " 2: -7.2557e+00 -7.0073e+00  3e+00  2e-01  6e-03\n",
      " 3: -6.2112e+00 -6.2799e+00  4e-01  2e-02  6e-04\n",
      " 4: -6.1788e+00 -6.1904e+00  3e-02  9e-04  3e-05\n",
      " 5: -6.1831e+00 -6.1833e+00  4e-04  1e-05  3e-07\n",
      " 6: -6.1832e+00 -6.1832e+00  4e-06  1e-07  3e-09\n",
      " 7: -6.1832e+00 -6.1832e+00  4e-08  1e-09  3e-11\n",
      "Optimal solution found.\n",
      "status optimal\n",
      "6\n",
      "0\n",
      "     pcost       dcost       gap    pres   dres\n",
      " 0: -6.7850e+00 -2.3583e+01  1e+02  1e+00  5e-01\n",
      " 1: -6.0200e+00 -2.0601e+01  1e+01  2e-16  3e-16\n",
      " 2: -6.6245e+00 -9.2559e+00  3e+00  6e-17  3e-16\n",
      " 3: -7.2236e+00 -7.9205e+00  7e-01  3e-16  4e-16\n",
      " 4: -7.3679e+00 -7.5043e+00  1e-01  2e-16  3e-16\n",
      " 5: -7.4097e+00 -7.4294e+00  2e-02  1e-16  4e-16\n",
      " 6: -7.4175e+00 -7.4203e+00  3e-03  2e-16  3e-16\n",
      " 7: -7.4188e+00 -7.4193e+00  5e-04  2e-16  4e-16\n",
      " 8: -7.4192e+00 -7.4192e+00  6e-05  1e-16  3e-16\n",
      " 9: -7.4192e+00 -7.4192e+00  1e-06  1e-16  4e-16\n",
      "Optimal solution found.\n",
      "status optimal\n",
      "7\n"
     ]
    },
    {
     "name": "stderr",
     "output_type": "stream",
     "text": [
      "  9%|▉         | 9/100 [00:00<00:03, 24.88it/s]"
     ]
    },
    {
     "name": "stdout",
     "output_type": "stream",
     "text": [
      "0\n",
      "     pcost       dcost       gap    pres   dres\n",
      " 0: -1.2422e+01 -2.4563e+01  1e+02  2e+00  4e-01\n",
      " 1: -1.1859e+01 -2.2615e+01  2e+01  1e-01  2e-02\n",
      " 2: -1.1856e+01 -1.4575e+01  3e+00  2e-02  2e-03\n",
      " 3: -1.2474e+01 -1.3088e+01  6e-01  4e-04  5e-05\n",
      " 4: -1.2645e+01 -1.2748e+01  1e-01  2e-16  3e-16\n",
      " 5: -1.2669e+01 -1.2701e+01  3e-02  2e-16  2e-16\n",
      " 6: -1.2678e+01 -1.2689e+01  1e-02  2e-16  2e-16\n",
      " 7: -1.2682e+01 -1.2687e+01  5e-03  2e-16  3e-16\n",
      " 8: -1.2684e+01 -1.2685e+01  1e-03  1e-16  4e-16\n",
      " 9: -1.2684e+01 -1.2685e+01  5e-04  2e-16  1e-15\n",
      "10: -1.2684e+01 -1.2684e+01  4e-05  2e-16  4e-16\n",
      "11: -1.2684e+01 -1.2684e+01  5e-07  4e-16  3e-16\n",
      "Optimal solution found.\n",
      "status optimal\n",
      "8\n",
      "0\n",
      "     pcost       dcost       gap    pres   dres\n",
      " 0: -6.3410e+00 -1.1166e+01  1e+02  4e+00  4e-01\n",
      " 1: -5.8492e+00 -1.0365e+01  1e+01  4e-01  4e-02\n",
      " 2: -5.4667e+00 -7.3075e+00  2e+00  3e-02  3e-03\n",
      " 3: -5.8501e+00 -6.3989e+00  6e-01  6e-03  5e-04\n",
      " 4: -6.0942e+00 -6.2365e+00  1e-01  3e-04  3e-05\n",
      " 5: -6.1674e+00 -6.1880e+00  2e-02  3e-05  3e-06\n",
      " 6: -6.1807e+00 -6.1823e+00  2e-03  4e-16  8e-16\n",
      " 7: -6.1819e+00 -6.1819e+00  2e-05  4e-16  5e-15\n",
      " 8: -6.1819e+00 -6.1819e+00  2e-07  3e-16  6e-15\n",
      "Optimal solution found.\n",
      "status optimal\n",
      "9\n",
      "success\n",
      "Package 3 saved\n"
     ]
    },
    {
     "name": "stderr",
     "output_type": "stream",
     "text": [
      "\n"
     ]
    }
   ],
   "execution_count": 14
  },
  {
   "cell_type": "code",
   "execution_count": null,
   "id": "e2721d626572439a",
   "metadata": {},
   "outputs": [],
   "source": [
    "# Open and load the .pkl.gz file\n",
    "with gzip.open(f'Quadratic_Programming_Datasets/raw/instance_{pkg_idx-1}.pkl.gz', 'rb') as f:\n",
    "    data = pickle.load(f)\n",
    "\n",
    "# Now `data` contains the contents of the pickle file\n",
    "print(data)"
   ]
  },
  {
   "cell_type": "code",
   "execution_count": 8,
   "id": "da58a31599301d3b",
   "metadata": {
    "ExecuteTime": {
     "end_time": "2024-06-19T10:51:03.870539Z",
     "start_time": "2024-06-19T10:51:03.863323Z"
    }
   },
   "outputs": [],
   "source": []
  },
  {
   "cell_type": "code",
   "execution_count": null,
   "id": "78f1cd8d54d3c20d",
   "metadata": {},
   "outputs": [],
   "source": []
  }
 ],
 "metadata": {
  "kernelspec": {
   "display_name": "Python 3 (ipykernel)",
   "language": "python",
   "name": "python3"
  },
  "language_info": {
   "codemirror_mode": {
    "name": "ipython",
    "version": 3
   },
   "file_extension": ".py",
   "mimetype": "text/x-python",
   "name": "python",
   "nbconvert_exporter": "python",
   "pygments_lexer": "ipython3",
   "version": "3.12.3"
  }
 },
 "nbformat": 4,
 "nbformat_minor": 5
}
