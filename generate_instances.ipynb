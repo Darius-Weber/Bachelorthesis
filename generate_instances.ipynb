{
 "cells": [
  {
   "metadata": {
    "ExecuteTime": {
     "end_time": "2024-06-04T16:44:46.796818Z",
     "start_time": "2024-06-04T16:44:41.819659Z"
    }
   },
   "cell_type": "code",
   "source": [
    "import numpy as np\n",
    "from tqdm import tqdm\n",
    "from solver.qp import qp\n",
    "import torch\n",
    "import gzip\n",
    "import pickle\n",
    "import warnings\n",
    "from generate_instances import generate_softmarginsvm"
   ],
   "id": "173af28e7d65bdd4",
   "execution_count": 3,
   "outputs": []
  },
  {
   "metadata": {},
   "cell_type": "markdown",
   "source": "### Soft margin Support Vector Machine",
   "id": "c5d11e2e014c6a03"
  },
  {
   "metadata": {
    "ExecuteTime": {
     "end_time": "2024-06-04T16:54:16.389186Z",
     "start_time": "2024-06-04T16:54:16.360598Z"
    }
   },
   "cell_type": "code",
   "source": [
    "def surrogate_gen():\n",
    "    C = 10 #regularization parameter\n",
    "    m = 4 #number of Datapoints\n",
    "    X = np.random.uniform(-1, 1, (m, 2)) #Dataset\n",
    "    bias = np.full((m, 1), 0.5)\n",
    "    X[:, 1] += bias.ravel()   # Adding a bias to make data linearly separable\n",
    "    y = np.array([1.0 if x[0] > x[1] else -1.0 for x in X]).reshape(m, 1) #label vector\n",
    "    X_dash = (y.reshape(-1,1) * 1.) * X #X_dash * X_dash^T = Q\n",
    "    Q, q, G, h, A, b = generate_softmarginsvm(y, X, X_dash, C)    \n",
    "    return Q, q, G, h, A, b, X_dash"
   ],
   "id": "c2209ef31c708a40",
   "execution_count": 16,
   "outputs": []
  },
  {
   "metadata": {},
   "cell_type": "markdown",
   "source": "### create",
   "id": "2743d542764c5370"
  },
  {
   "metadata": {
    "ExecuteTime": {
     "end_time": "2024-06-04T19:22:54.612091Z",
     "start_time": "2024-06-04T19:22:54.527585Z"
    }
   },
   "cell_type": "code",
   "source": [
    "import os\n",
    "\n",
    "directory = f'Quadratic_Programming_Datasets/raw'\n",
    "os.makedirs(directory, exist_ok=True)\n",
    "warnings.filterwarnings(\"error\")\n",
    "\n",
    "ips = []\n",
    "pkg_idx = 0 #identifier index\n",
    "success_cnt = 0\n",
    "fail_cnt = 0\n",
    "\n",
    "max_iter = 2\n",
    "num = 2\n",
    "\n",
    "for i in tqdm(range(max_iter)):\n",
    "    Q, q, G, h, A, b, S = surrogate_gen()\n",
    "    \n",
    "    try:\n",
    "        res = qp(Q, q, G, h, A, b)\n",
    "        print(\"status\",res['status'])\n",
    "    except Exception as e:\n",
    "        fail_cnt += 1\n",
    "        warnings.warn(f'Optimization failed with error: {str(e)}')\n",
    "        continue\n",
    "    else:\n",
    "        if res['status'] == 'optimal': #np.isnan(res.fun)?\n",
    "            ips.append((torch.from_numpy(np.array(Q)).to(torch.float), torch.from_numpy(np.array(q)).to(torch.float), torch.from_numpy(np.array(G)).to(torch.float), torch.from_numpy(np.array(h)).to(torch.float), torch.from_numpy(np.array(A)).to(torch.float), torch.from_numpy(np.array(b)).to(torch.float), torch.from_numpy(np.array(S)).to(torch.float)))\n",
    "            print(success_cnt)\n",
    "            success_cnt += 1\n",
    "            \n",
    "    if len(ips) >= 1000 or success_cnt == num:\n",
    "        print(\"success\")\n",
    "        with gzip.open(f'Quadratic_Programming_Datasets/raw/instance_{pkg_idx}.pkl.gz', \"wb\") as file:\n",
    "            pickle.dump(ips, file)\n",
    "            pkg_idx += 1\n",
    "        ips = []\n",
    "\n",
    "    if success_cnt >= num:\n",
    "        break\n",
    "\n",
    "warnings.resetwarnings()"
   ],
   "id": "7d554e7c00048391",
   "execution_count": 25,
   "outputs": []
  },
  {
   "metadata": {
    "ExecuteTime": {
     "end_time": "2024-06-04T16:55:03.944087Z",
     "start_time": "2024-06-04T16:55:03.846956Z"
    }
   },
   "cell_type": "code",
   "source": [
    "# Open and load the .pkl.gz file\n",
    "with gzip.open(f'Quadratic_Programming_Datasets/raw/instance_{pkg_idx-1}.pkl.gz', 'rb') as f:\n",
    "    data = pickle.load(f)\n",
    "\n",
    "# Now `data` contains the contents of the pickle file\n",
    "print(data)"
   ],
   "id": "e2721d626572439a",
   "execution_count": 20,
   "outputs": []
  },
  {
   "metadata": {},
   "cell_type": "code",
   "execution_count": null,
   "source": "",
   "id": "da58a31599301d3b",
   "outputs": []
  }
 ],
 "metadata": {
  "kernelspec": {
   "display_name": "Python 3",
   "language": "python",
   "name": "python3"
  },
  "language_info": {
   "codemirror_mode": {
    "name": "ipython",
    "version": 2
   },
   "file_extension": ".py",
   "mimetype": "text/x-python",
   "name": "python",
   "nbconvert_exporter": "python",
   "pygments_lexer": "ipython2",
   "version": "2.7.6"
  }
 },
 "nbformat": 4,
 "nbformat_minor": 5
}
