{
 "cells": [
  {
   "cell_type": "code",
   "id": "173af28e7d65bdd4",
   "metadata": {
    "ExecuteTime": {
     "end_time": "2024-07-09T07:45:16.919261Z",
     "start_time": "2024-07-09T07:44:50.942263Z"
    }
   },
   "source": [
    "import numpy as np\n",
    "from tqdm import tqdm\n",
    "from solver.qp import qp\n",
    "import pandas as pd\n",
    "import torch\n",
    "import gzip\n",
    "import pickle\n",
    "import warnings\n",
    "from generate_instances import generate_softmarginsvm, generate_markowitz_portfolio_optimization, generate_convex_function_to_data, generate_regressor_selection"
   ],
   "outputs": [],
   "execution_count": 1
  },
  {
   "cell_type": "markdown",
   "id": "c5d11e2e014c6a03",
   "metadata": {},
   "source": [
    "### Soft margin Support Vector Machine"
   ]
  },
  {
   "cell_type": "code",
   "id": "c2209ef31c708a40",
   "metadata": {
    "ExecuteTime": {
     "end_time": "2024-07-09T12:34:21.714820Z",
     "start_time": "2024-07-09T12:34:21.654813Z"
    }
   },
   "source": [
    "def surrogate_gen():\n",
    "    NUM = 500 # Number of points\n",
    "    DIM = 2 # Dimension of the points\n",
    "    C = 10 # regularization parameter (hardness of the margin)\n",
    "    \n",
    "    \n",
    "    # 2-D mean of ones\n",
    "    M1 = np.ones((DIM,))\n",
    "    # 2-D mean of threes\n",
    "    M2 = 3 * np.ones((DIM,))\n",
    "    # 2-D covariance of 0.3\n",
    "    C1 = np.diag(0.3 * np.ones((DIM,)))\n",
    "    # 2-D covariance of 0.2\n",
    "    C2 = np.diag(0.2 * np.ones((DIM,)))\n",
    "\n",
    "    # generate 50 points from gaussian 1\n",
    "    x1 = np.random.multivariate_normal(M1, C1, NUM) #generate gaussian\n",
    "    # labels\n",
    "    y1 = np.ones((x1.shape[0],))\n",
    "    # generate 50 points from gaussian 2\n",
    "    x2 = np.random.multivariate_normal(M2, C2, NUM)\n",
    "    y2 = -np.ones((x2.shape[0],))\n",
    "    # join\n",
    "    X = np.concatenate((x1, x2), axis = 0)\n",
    "    y = np.concatenate((y1, y2), axis = 0)\n",
    "\n",
    "    Q, q, G, h, A, b, S = generate_softmarginsvm(y, X, C)    \n",
    "    return Q, q, G, h, A, b, S"
   ],
   "outputs": [],
   "execution_count": 30
  },
  {
   "cell_type": "markdown",
   "id": "93c1650d9ef54eac",
   "metadata": {},
   "source": [
    "### Markowitz portfolio optimization"
   ]
  },
  {
   "cell_type": "code",
   "id": "75d7d68c8a4250be",
   "metadata": {
    "ExecuteTime": {
     "end_time": "2024-07-09T12:32:07.727156Z",
     "start_time": "2024-07-09T12:32:07.681188Z"
    }
   },
   "source": [
    "def surrogate_gen():\n",
    "    np.random.seed(1)\n",
    "    n_obs = 252\n",
    "    n_assets = 4\n",
    "    artificial_returns = np.random.randn(n_obs, n_assets) + 0.05 # minimum expected return\n",
    "    returns = pd.DataFrame(artificial_returns)\n",
    "    pbar = np.array(returns.mean()).reshape(1, -1)\n",
    "    r_min = pbar.mean() # minimum return threshold\n",
    "    Q, q, G, h, A, b, S = generate_markowitz_portfolio_optimization(artificial_returns, r_min, pbar)\n",
    "    return Q, q, G, h, A, b, S"
   ],
   "outputs": [],
   "execution_count": 28
  },
  {
   "metadata": {},
   "cell_type": "markdown",
   "source": "### Fiting convex function to given data",
   "id": "a09787a8adf0c02b"
  },
  {
   "metadata": {
    "ExecuteTime": {
     "end_time": "2024-07-09T12:05:44.681178Z",
     "start_time": "2024-07-09T12:05:44.646965Z"
    }
   },
   "cell_type": "code",
   "source": [
    "def surrogate_gen():\n",
    "    \n",
    "    # Generate 'u' values (from -2 to 2) for the independent variable\n",
    "    NUM = 4\n",
    "    u_values = np.linspace(-2.0, 2.0, num=NUM).reshape(-1, 1)\n",
    "    Q, q, G, h, A, b, S = generate_convex_function_to_data(u_values)\n",
    "    return Q, q, G, h, A, b, S"
   ],
   "id": "2e8cbd4859c7b22",
   "outputs": [],
   "execution_count": 23
  },
  {
   "metadata": {},
   "cell_type": "markdown",
   "source": "### Regressor selection problem",
   "id": "8b781b09b289bfa7"
  },
  {
   "metadata": {
    "ExecuteTime": {
     "end_time": "2024-07-09T12:30:11.561264Z",
     "start_time": "2024-07-09T12:30:11.497953Z"
    }
   },
   "cell_type": "code",
   "source": [
    "def surrogate_gen():\n",
    "    \n",
    "    # Set dimensions\n",
    "    m = 10  # number of rows for A\n",
    "    n = 20  # number of columns for A\n",
    "    nopts = 100 # range of alpha values\n",
    "    alpha_index = np.random.randint(0, nopts) # Select an alpha value from the range nopts\n",
    "    Q, q, G, h, A, b, S = generate_regressor_selection(alpha_index, m, n)\n",
    "    \n",
    "    return Q, q, G, h, A, b, S"
   ],
   "id": "ebeae10144d38b57",
   "outputs": [],
   "execution_count": 26
  },
  {
   "cell_type": "markdown",
   "id": "2743d542764c5370",
   "metadata": {},
   "source": [
    "### create"
   ]
  },
  {
   "cell_type": "code",
   "id": "7d554e7c00048391",
   "metadata": {
    "ExecuteTime": {
     "end_time": "2024-07-09T12:34:54.611277Z",
     "start_time": "2024-07-09T12:34:24.842809Z"
    }
   },
   "source": [
    "import os\n",
    "\n",
    "# directory = f'../../../../work/log1/darius.weber/Quadratic_Programming_Datasets/raw'\n",
    "directory = f'Quadratic_Programming_Datasets/raw'\n",
    "os.makedirs(directory, exist_ok=True)\n",
    "warnings.filterwarnings(\"error\")\n",
    "\n",
    "ips = []\n",
    "pkg_idx = 0 #identifier index\n",
    "success_cnt = 0\n",
    "fail_cnt = 0\n",
    "max_ipm_steps = 0\n",
    "\n",
    "\n",
    "max_iter = 100\n",
    "num = 10\n",
    "\n",
    "for i in tqdm(range(max_iter)):\n",
    "    Q, q, G, h, A, b, S = surrogate_gen()\n",
    "    try:\n",
    "        res = qp(Q, q, G, h, A, b, callback=lambda res: res)\n",
    "        max_ipm_steps = max(max_ipm_steps, res['iterations'])\n",
    "        print(\"status\",res['status'])\n",
    "    except Exception as e:\n",
    "        fail_cnt += 1\n",
    "        warnings.warn(f'Optimization failed with error: {str(e)}')\n",
    "        continue\n",
    "    else:\n",
    "        if res['status'] == 'optimal': #np.isnan(res.fun)?\n",
    "            ips.append((torch.from_numpy(np.array(Q)).to(torch.float), torch.from_numpy(np.array(q)).to(torch.float), torch.from_numpy(np.array(G)).to(torch.float), torch.from_numpy(np.array(h)).to(torch.float), torch.from_numpy(np.array(A)).to(torch.float), torch.from_numpy(np.array(b)).to(torch.float), torch.from_numpy(np.array(S)).to(torch.float), res))\n",
    "            success_cnt += 1\n",
    "            \n",
    "    if len(ips) >= 1000 or success_cnt == num:\n",
    "        print(\"success\")\n",
    "        ips = [ip + (max_ipm_steps,) for ip in ips]\n",
    "        with gzip.open(f'{directory}/instance_{pkg_idx}.pkl.gz', \"wb\") as file:\n",
    "            pickle.dump(ips, file)\n",
    "            print(f'Package {pkg_idx} saved')\n",
    "            pkg_idx += 1\n",
    "\n",
    "        ips = []\n",
    "    if success_cnt >= num:\n",
    "        break\n",
    "warnings.resetwarnings()"
   ],
   "outputs": [
    {
     "name": "stderr",
     "output_type": "stream",
     "text": [
      "  0%|          | 0/100 [00:00<?, ?it/s]"
     ]
    },
    {
     "name": "stdout",
     "output_type": "stream",
     "text": [
      "     pcost       dcost       gap    pres   dres\n",
      " 0: -6.0380e+02 -7.0362e+04  2e+05  9e-01  9e-13\n",
      " 1: -2.4600e+02 -1.8026e+04  3e+04  8e-02  5e-13\n",
      " 2: -1.4781e+01 -3.4578e+03  5e+03  1e-02  3e-13\n",
      " 3:  3.3993e+01 -1.2021e+03  2e+03  4e-03  1e-13\n",
      " 4:  3.6605e+01 -5.6148e+02  8e+02  2e-03  7e-14\n",
      " 5:  1.7819e+01 -2.4970e+02  3e+02  6e-04  4e-14\n",
      " 6:  9.4349e+00 -1.4416e+02  2e+02  2e-04  5e-14\n",
      " 7:  6.2389e+00 -1.3277e+02  2e+02  1e-04  6e-14\n",
      " 8: -1.6065e+00 -8.9845e+01  9e+01  3e-05  6e-14\n",
      " 9: -3.6602e+00 -8.2440e+01  8e+01  2e-05  6e-14\n",
      "10: -1.1402e+01 -7.3282e+01  6e+01  1e-05  7e-14\n",
      "11: -9.1571e+00 -6.9661e+01  6e+01  1e-05  7e-14\n",
      "12: -2.2037e+01 -4.6511e+01  2e+01  3e-06  7e-14\n",
      "13: -2.5386e+01 -3.9003e+01  1e+01  1e-06  6e-14\n",
      "14: -2.5642e+01 -3.9078e+01  1e+01  1e-06  6e-14\n",
      "15: -2.9632e+01 -3.1893e+01  2e+00  2e-07  7e-14\n",
      "16: -3.0499e+01 -3.0531e+01  3e-02  2e-09  8e-14\n",
      "17: -3.0512e+01 -3.0513e+01  3e-04  2e-11  7e-14\n"
     ]
    },
    {
     "name": "stderr",
     "output_type": "stream",
     "text": [
      "  1%|          | 1/100 [00:02<04:00,  2.43s/it]"
     ]
    },
    {
     "name": "stdout",
     "output_type": "stream",
     "text": [
      "18: -3.0513e+01 -3.0513e+01  3e-06  2e-13  8e-14\n",
      "Optimal solution found.\n",
      "status optimal\n",
      "     pcost       dcost       gap    pres   dres\n",
      " 0: -5.8864e+02 -6.0334e+04  2e+05  8e-01  8e-13\n",
      " 1: -2.3383e+02 -1.2797e+04  2e+04  6e-02  6e-13\n",
      " 2: -6.2709e+01 -2.1756e+03  3e+03  9e-03  3e-13\n",
      " 3: -4.3915e+01 -4.9811e+02  6e+02  1e-03  1e-13\n",
      " 4: -5.7853e+01 -4.1456e+02  4e+02  8e-04  1e-13\n",
      " 5: -7.1475e+01 -3.1104e+02  3e+02  3e-04  1e-13\n",
      " 6: -8.0035e+01 -2.1896e+02  1e+02  6e-16  1e-13\n",
      " 7: -9.4082e+01 -1.7728e+02  8e+01  5e-15  1e-13\n",
      " 8: -1.0355e+02 -1.5349e+02  5e+01  2e-15  1e-13\n",
      " 9: -1.0881e+02 -1.4071e+02  3e+01  1e-14  1e-13\n",
      "10: -1.1108e+02 -1.3841e+02  3e+01  1e-14  1e-13\n",
      "11: -1.1491e+02 -1.3284e+02  2e+01  3e-15  1e-13\n",
      "12: -1.1509e+02 -1.3060e+02  2e+01  3e-14  1e-13\n",
      "13: -1.1640e+02 -1.2870e+02  1e+01  3e-15  1e-13\n",
      "14: -1.1959e+02 -1.2416e+02  5e+00  4e-15  2e-13\n",
      "15: -1.2122e+02 -1.2207e+02  8e-01  3e-14  2e-13\n",
      "16: -1.2126e+02 -1.2203e+02  8e-01  2e-14  2e-13\n",
      "17: -1.2159e+02 -1.2162e+02  3e-02  9e-16  2e-13\n"
     ]
    },
    {
     "name": "stderr",
     "output_type": "stream",
     "text": [
      "  2%|▏         | 2/100 [00:04<03:42,  2.27s/it]"
     ]
    },
    {
     "name": "stdout",
     "output_type": "stream",
     "text": [
      "18: -1.2161e+02 -1.2161e+02  3e-04  4e-14  2e-13\n",
      "19: -1.2161e+02 -1.2161e+02  3e-06  5e-15  2e-13\n",
      "Optimal solution found.\n",
      "status optimal\n",
      "     pcost       dcost       gap    pres   dres\n",
      " 0: -5.2933e+02 -8.0186e+04  3e+05  1e+00  6e-13\n",
      " 1: -2.1143e+02 -2.3359e+04  4e+04  9e-02  5e-13\n",
      " 2:  1.9096e+01 -3.5006e+03  5e+03  1e-02  3e-13\n",
      " 3:  5.2255e+01 -7.8465e+02  1e+03  2e-03  1e-13\n",
      " 4:  2.9910e+01 -3.0939e+02  4e+02  8e-04  4e-14\n",
      " 5:  1.1243e+01 -1.1985e+02  1e+02  3e-04  3e-14\n",
      " 6:  1.6302e+00 -9.9383e+01  1e+02  1e-04  7e-14\n",
      " 7:  5.4763e+00 -9.0680e+01  1e+02  9e-05  6e-14\n",
      " 8: -9.4871e+00 -4.8807e+01  4e+01  4e-06  6e-14\n",
      " 9: -1.8408e+01 -3.3615e+01  2e+01  1e-06  6e-14\n",
      "10: -2.3382e+01 -2.4702e+01  1e+00  1e-14  7e-14\n",
      "11: -2.3805e+01 -2.4302e+01  5e-01  8e-15  7e-14\n",
      "12: -2.4050e+01 -2.4057e+01  7e-03  5e-15  7e-14\n",
      "13: -2.4053e+01 -2.4053e+01  7e-05  2e-14  7e-14\n",
      "14: -2.4053e+01 -2.4053e+01  7e-07  1e-14  7e-14\n",
      "Optimal solution found.\n",
      "status optimal\n"
     ]
    },
    {
     "name": "stderr",
     "output_type": "stream",
     "text": [
      "  3%|▎         | 3/100 [00:06<03:19,  2.05s/it]"
     ]
    },
    {
     "name": "stdout",
     "output_type": "stream",
     "text": [
      "     pcost       dcost       gap    pres   dres\n",
      " 0: -5.9891e+02 -7.2871e+04  2e+05  9e-01  7e-13\n",
      " 1: -2.5040e+02 -1.9554e+04  3e+04  8e-02  6e-13\n",
      " 2: -1.9778e+01 -3.1940e+03  5e+03  1e-02  3e-13\n",
      " 3:  2.5610e+01 -1.5592e+03  2e+03  5e-03  1e-13\n",
      " 4:  1.4515e+01 -6.1463e+02  8e+02  2e-03  9e-14\n",
      " 5: -1.4096e+01 -2.6526e+02  3e+02  4e-04  9e-14\n",
      " 6: -2.6418e+01 -1.9850e+02  2e+02  3e-04  8e-14\n",
      " 7: -4.2210e+01 -9.5035e+01  5e+01  1e-14  9e-14\n",
      " 8: -4.8573e+01 -7.9042e+01  3e+01  3e-15  8e-14\n",
      " 9: -5.0693e+01 -8.1355e+01  3e+01  3e-14  8e-14\n",
      "10: -5.9022e+01 -6.5104e+01  6e+00  1e-14  8e-14\n",
      "11: -6.0023e+01 -6.3376e+01  3e+00  3e-14  9e-14\n",
      "12: -6.0738e+01 -6.2374e+01  2e+00  2e-14  1e-13\n",
      "13: -6.1487e+01 -6.1544e+01  6e-02  2e-14  1e-13\n",
      "14: -6.1517e+01 -6.1518e+01  6e-04  5e-14  1e-13\n"
     ]
    },
    {
     "name": "stderr",
     "output_type": "stream",
     "text": [
      "  4%|▍         | 4/100 [00:08<03:03,  1.91s/it]"
     ]
    },
    {
     "name": "stdout",
     "output_type": "stream",
     "text": [
      "15: -6.1517e+01 -6.1517e+01  6e-06  8e-14  9e-14\n",
      "Optimal solution found.\n",
      "status optimal\n",
      "     pcost       dcost       gap    pres   dres\n",
      " 0: -5.2890e+02 -7.7382e+04  3e+05  1e+00  7e-13\n",
      " 1: -2.1674e+02 -2.1483e+04  3e+04  8e-02  6e-13\n",
      " 2:  1.4490e+00 -3.5965e+03  5e+03  1e-02  3e-13\n",
      " 3:  3.4657e+01 -9.7151e+02  1e+03  3e-03  1e-13\n",
      " 4:  1.7091e+01 -3.8737e+02  5e+02  9e-04  6e-14\n",
      " 5:  6.3097e+00 -1.8441e+02  2e+02  5e-05  9e-14\n",
      " 6: -1.3320e+01 -9.9134e+01  9e+01  9e-06  7e-14\n",
      " 7: -2.6157e+01 -6.7363e+01  4e+01  4e-06  6e-14\n",
      " 8: -2.6551e+01 -6.7719e+01  4e+01  4e-06  6e-14\n",
      " 9: -3.1239e+01 -6.1633e+01  3e+01  2e-06  8e-14\n",
      "10: -2.9689e+01 -6.0492e+01  3e+01  2e-06  7e-14\n",
      "11: -3.5061e+01 -4.8987e+01  1e+01  2e-07  8e-14\n",
      "12: -3.5615e+01 -4.8203e+01  1e+01  1e-07  8e-14\n",
      "13: -3.8260e+01 -4.4531e+01  6e+00  2e-14  9e-14\n",
      "14: -4.0045e+01 -4.2372e+01  2e+00  8e-16  8e-14\n",
      "15: -4.0956e+01 -4.1245e+01  3e-01  6e-15  9e-14\n",
      "16: -4.1014e+01 -4.1179e+01  2e-01  3e-14  9e-14\n",
      "17: -4.1093e+01 -4.1097e+01  3e-03  2e-14  9e-14\n"
     ]
    },
    {
     "name": "stderr",
     "output_type": "stream",
     "text": [
      "  5%|▌         | 5/100 [00:10<03:05,  1.96s/it]"
     ]
    },
    {
     "name": "stdout",
     "output_type": "stream",
     "text": [
      "18: -4.1095e+01 -4.1095e+01  5e-05  3e-14  1e-13\n",
      "19: -4.1095e+01 -4.1095e+01  5e-07  3e-14  1e-13\n",
      "Optimal solution found.\n",
      "status optimal\n",
      "     pcost       dcost       gap    pres   dres\n",
      " 0: -5.8140e+02 -6.4827e+04  2e+05  8e-01  8e-13\n",
      " 1: -2.2502e+02 -1.4940e+04  2e+04  7e-02  5e-13\n",
      " 2: -2.1464e+01 -2.7307e+03  4e+03  1e-02  3e-13\n",
      " 3:  2.3116e+01 -8.2586e+02  1e+03  3e-03  1e-13\n",
      " 4:  2.4621e+01 -3.6293e+02  5e+02  8e-04  8e-14\n",
      " 5:  2.2620e+01 -2.7068e+02  3e+02  5e-04  6e-14\n",
      " 6:  2.9397e+00 -1.8055e+02  2e+02  3e-04  7e-14\n",
      " 7: -1.6727e+00 -1.2290e+02  1e+02  7e-05  6e-14\n",
      " 8: -1.0603e+00 -1.1729e+02  1e+02  6e-05  1e-13\n",
      " 9: -1.1709e+00 -1.1588e+02  1e+02  5e-05  1e-13\n",
      "10: -6.4721e+00 -1.1349e+02  1e+02  3e-05  1e-13\n",
      "11: -1.8337e+01 -8.0203e+01  6e+01  1e-05  7e-14\n",
      "12: -2.8819e+01 -6.3002e+01  3e+01  5e-06  8e-14\n",
      "13: -2.8400e+01 -6.1686e+01  3e+01  5e-06  8e-14\n",
      "14: -3.6509e+01 -4.8750e+01  1e+01  1e-06  8e-14\n",
      "15: -3.9090e+01 -4.4611e+01  6e+00  5e-07  8e-14\n",
      "16: -3.9298e+01 -4.4140e+01  5e+00  4e-07  8e-14\n",
      "17: -4.0960e+01 -4.1857e+01  9e-01  7e-09  9e-14\n",
      "18: -4.1363e+01 -4.1380e+01  2e-02  1e-10  9e-14\n"
     ]
    },
    {
     "name": "stderr",
     "output_type": "stream",
     "text": [
      "  6%|▌         | 6/100 [00:12<03:14,  2.07s/it]"
     ]
    },
    {
     "name": "stdout",
     "output_type": "stream",
     "text": [
      "19: -4.1371e+01 -4.1371e+01  2e-04  1e-12  9e-14\n",
      "20: -4.1371e+01 -4.1371e+01  2e-06  3e-14  9e-14\n",
      "Optimal solution found.\n",
      "status optimal\n",
      "     pcost       dcost       gap    pres   dres\n",
      " 0: -5.9218e+02 -7.0881e+04  2e+05  9e-01  8e-13\n",
      " 1: -2.5004e+02 -1.8182e+04  3e+04  7e-02  6e-13\n",
      " 2: -1.3984e+01 -2.9051e+03  4e+03  1e-02  3e-13\n",
      " 3:  2.5623e+01 -5.7239e+02  8e+02  1e-03  1e-13\n",
      " 4: -1.3714e+01 -6.7359e+01  5e+01  2e-05  6e-14\n",
      " 5: -2.1627e+01 -5.7675e+01  4e+01  1e-05  5e-14\n",
      " 6: -2.3106e+01 -5.8989e+01  4e+01  1e-05  6e-14\n",
      " 7: -2.9648e+01 -6.1055e+01  3e+01  9e-06  7e-14\n",
      " 8: -2.8862e+01 -6.0316e+01  3e+01  9e-06  7e-14\n",
      " 9: -3.4080e+01 -6.0790e+01  3e+01  5e-06  6e-14\n",
      "10: -3.3060e+01 -5.9883e+01  3e+01  5e-06  7e-14\n",
      "11: -3.5560e+01 -6.1691e+01  3e+01  4e-06  7e-14\n",
      "12: -4.1047e+01 -5.4842e+01  1e+01  2e-06  7e-14\n",
      "13: -4.4744e+01 -5.0225e+01  6e+00  6e-07  6e-14\n",
      "14: -4.7162e+01 -4.7287e+01  1e-01  1e-08  8e-14\n",
      "15: -4.7212e+01 -4.7213e+01  1e-03  1e-10  8e-14\n"
     ]
    },
    {
     "name": "stderr",
     "output_type": "stream",
     "text": [
      "  7%|▋         | 7/100 [00:14<03:10,  2.04s/it]"
     ]
    },
    {
     "name": "stdout",
     "output_type": "stream",
     "text": [
      "16: -4.7212e+01 -4.7212e+01  1e-05  1e-12  8e-14\n",
      "Optimal solution found.\n",
      "status optimal\n",
      "     pcost       dcost       gap    pres   dres\n",
      " 0: -6.0246e+02 -6.6182e+04  2e+05  8e-01  8e-13\n",
      " 1: -2.4882e+02 -1.5676e+04  2e+04  7e-02  6e-13\n",
      " 2: -3.6941e+01 -2.5541e+03  4e+03  1e-02  3e-13\n",
      " 3: -6.0171e+00 -5.2153e+02  7e+02  2e-03  1e-13\n",
      " 4: -3.0261e+01 -2.2106e+02  2e+02  3e-04  9e-14\n",
      " 5: -2.9571e+01 -2.1441e+02  2e+02  3e-04  9e-14\n",
      " 6: -3.7129e+01 -1.9425e+02  2e+02  2e-04  9e-14\n",
      " 7: -5.3940e+01 -1.3958e+02  9e+01  5e-05  1e-13\n",
      " 8: -4.9166e+01 -1.2893e+02  8e+01  3e-05  9e-14\n",
      " 9: -5.6677e+01 -1.2753e+02  7e+01  2e-05  1e-13\n",
      "10: -5.8932e+01 -1.2343e+02  7e+01  1e-05  1e-13\n",
      "11: -6.8749e+01 -1.0065e+02  3e+01  4e-15  1e-13\n",
      "12: -7.6448e+01 -9.0792e+01  1e+01  1e-15  1e-13\n",
      "13: -7.8106e+01 -8.8277e+01  1e+01  1e-14  1e-13\n",
      "14: -8.0425e+01 -8.4301e+01  4e+00  6e-14  1e-13\n",
      "15: -8.1185e+01 -8.3366e+01  2e+00  3e-14  1e-13\n",
      "16: -8.1415e+01 -8.2954e+01  2e+00  7e-14  1e-13\n",
      "17: -8.2087e+01 -8.2237e+01  2e-01  5e-14  1e-13\n",
      "18: -8.2159e+01 -8.2161e+01  2e-03  3e-15  1e-13\n"
     ]
    },
    {
     "name": "stderr",
     "output_type": "stream",
     "text": [
      "  8%|▊         | 8/100 [00:16<03:21,  2.19s/it]"
     ]
    },
    {
     "name": "stdout",
     "output_type": "stream",
     "text": [
      "19: -8.2160e+01 -8.2160e+01  2e-05  4e-14  1e-13\n",
      "Optimal solution found.\n",
      "status optimal\n",
      "     pcost       dcost       gap    pres   dres\n",
      " 0: -5.9981e+02 -7.0342e+04  2e+05  9e-01  7e-13\n",
      " 1: -2.4230e+02 -1.8053e+04  3e+04  8e-02  6e-13\n",
      " 2: -2.3912e+00 -2.9614e+03  5e+03  1e-02  3e-13\n",
      " 3:  3.5673e+01 -1.0688e+03  2e+03  4e-03  2e-13\n",
      " 4:  3.9790e+01 -4.7164e+02  6e+02  1e-03  7e-14\n",
      " 5:  1.8583e+01 -1.3658e+02  2e+02  1e-04  4e-14\n",
      " 6:  1.7935e+01 -1.2992e+02  2e+02  9e-05  4e-14\n",
      " 7:  3.7676e+00 -9.1652e+01  1e+02  4e-05  5e-14\n",
      " 8: -5.5941e+00 -6.0982e+01  6e+01  2e-05  5e-14\n",
      " 9: -5.6725e+00 -5.8173e+01  5e+01  1e-05  5e-14\n",
      "10: -1.4350e+01 -4.1825e+01  3e+01  2e-06  6e-14\n",
      "11: -2.2657e+01 -2.7296e+01  5e+00  2e-07  7e-14\n",
      "12: -2.3217e+01 -2.6009e+01  3e+00  3e-08  7e-14\n",
      "13: -2.4392e+01 -2.4723e+01  3e-01  2e-09  7e-14\n"
     ]
    },
    {
     "name": "stderr",
     "output_type": "stream",
     "text": [
      "  9%|▉         | 9/100 [00:19<03:30,  2.32s/it]"
     ]
    },
    {
     "name": "stdout",
     "output_type": "stream",
     "text": [
      "14: -2.4549e+01 -2.4556e+01  7e-03  5e-11  8e-14\n",
      "15: -2.4553e+01 -2.4553e+01  8e-05  5e-13  8e-14\n",
      "16: -2.4553e+01 -2.4553e+01  8e-07  3e-14  7e-14\n",
      "Optimal solution found.\n",
      "status optimal\n",
      "     pcost       dcost       gap    pres   dres\n",
      " 0: -6.4231e+02 -8.4545e+04  3e+05  1e+00  7e-13\n",
      " 1: -3.0202e+02 -2.6105e+04  4e+04  1e-01  6e-13\n",
      " 2: -4.3350e+01 -4.8560e+03  7e+03  2e-02  4e-13\n",
      " 3:  1.4423e+01 -1.7178e+03  2e+03  5e-03  2e-13\n",
      " 4:  1.7305e+01 -8.8877e+02  1e+03  2e-03  1e-13\n",
      " 5: -2.0173e+01 -3.2601e+02  3e+02  5e-04  1e-13\n",
      " 6: -2.9935e+01 -2.4233e+02  2e+02  2e-04  8e-14\n",
      " 7: -3.7787e+01 -2.4187e+02  2e+02  2e-04  1e-13\n",
      " 8: -4.3487e+01 -2.0996e+02  2e+02  1e-04  1e-13\n",
      " 9: -5.7381e+01 -1.3236e+02  7e+01  1e-14  1e-13\n",
      "10: -6.0124e+01 -1.3465e+02  7e+01  9e-15  1e-13\n",
      "11: -6.1777e+01 -1.1641e+02  5e+01  2e-14  1e-13\n",
      "12: -6.2324e+01 -1.1675e+02  5e+01  1e-14  1e-13\n",
      "13: -7.5833e+01 -9.9955e+01  2e+01  2e-14  1e-13\n",
      "14: -8.4071e+01 -8.6271e+01  2e+00  2e-14  1e-13\n",
      "15: -8.4734e+01 -8.5154e+01  4e-01  2e-14  1e-13\n",
      "16: -8.4799e+01 -8.5009e+01  2e-01  5e-14  1e-13\n",
      "17: -8.4882e+01 -8.4904e+01  2e-02  6e-14  1e-13\n",
      "18: -8.4893e+01 -8.4893e+01  2e-04  3e-14  1e-13\n",
      "19: -8.4893e+01 -8.4893e+01  2e-06  2e-14  1e-13\n",
      "Optimal solution found.\n",
      "status optimal\n",
      "success\n"
     ]
    },
    {
     "name": "stderr",
     "output_type": "stream",
     "text": [
      "  9%|▉         | 9/100 [00:29<05:00,  3.30s/it]"
     ]
    },
    {
     "name": "stdout",
     "output_type": "stream",
     "text": [
      "Package 0 saved\n"
     ]
    },
    {
     "name": "stderr",
     "output_type": "stream",
     "text": [
      "\n"
     ]
    }
   ],
   "execution_count": 31
  },
  {
   "cell_type": "code",
   "execution_count": null,
   "id": "e2721d626572439a",
   "metadata": {},
   "outputs": [],
   "source": [
    "# Open and load the .pkl.gz file\n",
    "with gzip.open(f'Quadratic_Programming_Datasets/raw/instance_{pkg_idx-1}.pkl.gz', 'rb') as f:\n",
    "    data = pickle.load(f)\n",
    "\n",
    "# Now `data` contains the contents of the pickle file\n",
    "print(data)"
   ]
  },
  {
   "cell_type": "code",
   "execution_count": 8,
   "id": "da58a31599301d3b",
   "metadata": {
    "ExecuteTime": {
     "end_time": "2024-06-19T10:51:03.870539Z",
     "start_time": "2024-06-19T10:51:03.863323Z"
    }
   },
   "outputs": [],
   "source": []
  },
  {
   "cell_type": "code",
   "execution_count": null,
   "id": "78f1cd8d54d3c20d",
   "metadata": {},
   "outputs": [],
   "source": []
  }
 ],
 "metadata": {
  "kernelspec": {
   "display_name": "Python 3 (ipykernel)",
   "language": "python",
   "name": "python3"
  },
  "language_info": {
   "codemirror_mode": {
    "name": "ipython",
    "version": 3
   },
   "file_extension": ".py",
   "mimetype": "text/x-python",
   "name": "python",
   "nbconvert_exporter": "python",
   "pygments_lexer": "ipython3",
   "version": "3.12.3"
  }
 },
 "nbformat": 4,
 "nbformat_minor": 5
}
