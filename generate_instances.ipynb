{
 "cells": [
  {
   "cell_type": "code",
   "execution_count": 1,
   "id": "173af28e7d65bdd4",
   "metadata": {
    "ExecuteTime": {
     "end_time": "2024-07-09T14:05:20.536672Z",
     "start_time": "2024-07-09T14:05:12.207868Z"
    }
   },
   "outputs": [],
   "source": [
    "import numpy as np\n",
    "from tqdm import tqdm\n",
    "from solver.qp import qp\n",
    "import pandas as pd\n",
    "import gzip\n",
    "import pickle\n",
    "import warnings\n",
    "from generate_instances import generate_softmarginsvm, generate_markowitz_portfolio_optimization, generate_convex_function_to_data, generate_regressor_selection"
   ]
  },
  {
   "cell_type": "markdown",
   "id": "c5d11e2e014c6a03",
   "metadata": {},
   "source": [
    "### Soft margin Support Vector Machine"
   ]
  },
  {
   "cell_type": "code",
   "execution_count": 2,
   "id": "c2209ef31c708a40",
   "metadata": {
    "ExecuteTime": {
     "end_time": "2024-07-09T14:05:24.659623Z",
     "start_time": "2024-07-09T14:05:24.648215Z"
    }
   },
   "outputs": [],
   "source": [
    "def surrogate_gen():\n",
    "    NUM = 3 # Number of points\n",
    "    DIM = 2 # Dimension of the points\n",
    "    C = 10 # regularization parameter (hardness of the margin)\n",
    "    \n",
    "    \n",
    "    # 2-D mean of ones\n",
    "    M1 = np.ones((DIM,))\n",
    "    # 2-D mean of threes\n",
    "    M2 = 3 * np.ones((DIM,))\n",
    "    # 2-D covariance of 0.3\n",
    "    C1 = np.diag(0.3 * np.ones((DIM,)))\n",
    "    # 2-D covariance of 0.2\n",
    "    C2 = np.diag(0.2 * np.ones((DIM,)))\n",
    "\n",
    "    # generate 50 points from gaussian 1\n",
    "    x1 = np.random.multivariate_normal(M1, C1, NUM) #generate gaussian\n",
    "    # labels\n",
    "    y1 = np.ones((x1.shape[0],))\n",
    "    # generate 50 points from gaussian 2\n",
    "    x2 = np.random.multivariate_normal(M2, C2, NUM)\n",
    "    y2 = -np.ones((x2.shape[0],))\n",
    "    # join\n",
    "    X = np.concatenate((x1, x2), axis = 0)\n",
    "    y = np.concatenate((y1, y2), axis = 0)\n",
    "\n",
    "    Q, q, G, h, A, b, S = generate_softmarginsvm(y, X, C)    \n",
    "    return Q, q, G, h, A, b, S"
   ]
  },
  {
   "cell_type": "markdown",
   "id": "93c1650d9ef54eac",
   "metadata": {},
   "source": [
    "### Markowitz portfolio optimization"
   ]
  },
  {
   "cell_type": "code",
   "execution_count": 31,
   "id": "75d7d68c8a4250be",
   "metadata": {
    "ExecuteTime": {
     "end_time": "2024-07-09T14:35:55.851663Z",
     "start_time": "2024-07-09T14:35:55.749789Z"
    }
   },
   "outputs": [],
   "source": [
    "def surrogate_gen():\n",
    "    np.random.seed(1)\n",
    "    n_obs = 252\n",
    "    n_assets = 150\n",
    "    artificial_returns = np.random.randn(n_obs, n_assets) + 0.05 # minimum expected return\n",
    "    returns = pd.DataFrame(artificial_returns)\n",
    "    pbar = np.array(returns.mean()).reshape(1, -1)\n",
    "    r_min = pbar.mean() # minimum return threshold\n",
    "    Q, q, G, h, A, b, S = generate_markowitz_portfolio_optimization(artificial_returns, r_min, pbar)\n",
    "    return Q, q, G, h, A, b, S"
   ]
  },
  {
   "cell_type": "markdown",
   "id": "a09787a8adf0c02b",
   "metadata": {},
   "source": [
    "### Fitting convex function to given data"
   ]
  },
  {
   "cell_type": "code",
   "execution_count": 19,
   "id": "2e8cbd4859c7b22",
   "metadata": {
    "ExecuteTime": {
     "end_time": "2024-07-09T12:05:44.681178Z",
     "start_time": "2024-07-09T12:05:44.646965Z"
    }
   },
   "outputs": [],
   "source": [
    "def surrogate_gen():\n",
    "    \n",
    "    # Generate 'u' values (from -2 to 2) for the independent variable\n",
    "    NUM = 3\n",
    "    u_values = np.linspace(-2.0, 2.0, num=NUM).reshape(-1, 1)\n",
    "    Q, q, G, h, A, b, S = generate_convex_function_to_data(u_values)\n",
    "    return Q, q, G, h, A, b, S"
   ]
  },
  {
   "cell_type": "markdown",
   "id": "8b781b09b289bfa7",
   "metadata": {},
   "source": [
    "### Regressor selection problem"
   ]
  },
  {
   "cell_type": "code",
   "execution_count": 40,
   "id": "ebeae10144d38b57",
   "metadata": {
    "ExecuteTime": {
     "end_time": "2024-07-09T12:30:11.561264Z",
     "start_time": "2024-07-09T12:30:11.497953Z"
    }
   },
   "outputs": [],
   "source": [
    "def surrogate_gen():\n",
    "    \n",
    "    # Set dimensions\n",
    "    m = 40  # number of rows for A\n",
    "    n = 80  # number of columns for A\n",
    "    nopts = 100 # range of alpha values\n",
    "    alpha_index = np.random.randint(0, nopts) # Select an alpha value from the range nopts\n",
    "    Q, q, G, h, A, b, S = generate_regressor_selection(alpha_index, m, n)\n",
    "    \n",
    "    return Q, q, G, h, A, b, S"
   ]
  },
  {
   "cell_type": "markdown",
   "id": "2743d542764c5370",
   "metadata": {},
   "source": [
    "### create"
   ]
  },
  {
   "cell_type": "code",
   "execution_count": 3,
   "id": "7d554e7c00048391",
   "metadata": {
    "ExecuteTime": {
     "end_time": "2024-07-09T14:36:02.066948Z",
     "start_time": "2024-07-09T14:36:01.596168Z"
    }
   },
   "outputs": [
    {
     "name": "stderr",
     "output_type": "stream",
     "text": [
      "  0%|          | 0/100 [00:00<?, ?it/s]"
     ]
    },
    {
     "name": "stderr",
     "output_type": "stream",
     "text": [
      "  1%|          | 1/100 [00:00<00:12,  7.94it/s]"
     ]
    },
    {
     "name": "stdout",
     "output_type": "stream",
     "text": [
      "True\n",
      "     pcost       dcost       gap    pres   dres\n",
      " 0:  1.4798e+01 -1.5991e+02  3e+02  2e-01  5e-15\n",
      " 1:  7.6719e+00 -1.6396e+01  3e+01  8e-03  3e-15\n",
      " 2:  5.7384e-01 -2.6820e+00  3e+00  2e-16  2e-15\n",
      " 3: -3.6693e-01 -7.5638e-01  4e-01  2e-16  7e-16\n",
      " 4: -5.0271e-01 -5.4401e-01  4e-02  2e-16  4e-16\n",
      " 5: -5.3710e-01 -5.3761e-01  5e-04  1e-16  3e-16\n",
      " 6: -5.3749e-01 -5.3749e-01  5e-06  2e-16  6e-16\n",
      " 7: -5.3749e-01 -5.3749e-01  5e-08  2e-16  4e-16\n",
      "Optimal solution found.\n",
      "status optimal\n",
      "True\n",
      "     pcost       dcost       gap    pres   dres\n",
      " 0:  1.3763e+01 -1.2384e+02  2e+02  2e-01  3e-15\n",
      " 1:  6.1200e+00 -1.1631e+01  2e+01  4e-03  2e-15\n",
      " 2:  5.2919e-01 -1.8908e+00  2e+00  2e-16  1e-15\n",
      " 3: -1.7958e-01 -4.9201e-01  3e-01  2e-16  7e-16\n",
      " 4: -2.4397e-01 -2.7721e-01  3e-02  2e-16  3e-16\n",
      " 5: -2.7012e-01 -2.7302e-01  3e-03  1e-16  4e-16\n",
      " 6: -2.7143e-01 -2.7146e-01  3e-05  3e-16  2e-16\n",
      " 7: -2.7145e-01 -2.7145e-01  3e-07  2e-16  1e-16\n",
      " 8: -2.7145e-01 -2.7145e-01  3e-09  2e-16  2e-16\n",
      "Optimal solution found.\n",
      "status optimal\n",
      "True\n",
      "     pcost       dcost       gap    pres   dres\n",
      " 0:  1.1509e+01 -2.2234e+02  4e+02  3e-01  4e-15\n",
      " 1:  1.1730e+01 -2.7528e+01  4e+01  1e-02  4e-15\n",
      " 2:  1.2673e+00 -3.6790e+00  5e+00  1e-16  7e-16\n",
      " 3: -2.6151e-01 -9.1473e-01  7e-01  1e-16  8e-16\n",
      " 4: -4.1548e-01 -4.8416e-01  7e-02  2e-16  7e-16\n",
      " 5: -4.5961e-01 -4.6618e-01  7e-03  1e-16  7e-16\n",
      " 6: -4.6328e-01 -4.6344e-01  2e-04  3e-16  3e-16\n",
      " 7: -4.6341e-01 -4.6341e-01  2e-06  2e-16  5e-16\n",
      " 8: -4.6341e-01 -4.6341e-01  2e-08  2e-16  8e-16\n",
      "Optimal solution found.\n",
      "status optimal\n",
      "True\n",
      "     pcost       dcost       gap    pres   dres\n",
      " 0:  1.6510e+01 -1.3122e+02  1e+02  5e-15  2e-15\n",
      " 1:  2.6936e+00 -8.5736e+00  1e+01  2e-16  3e-15\n",
      " 2: -1.2223e-01 -1.3192e+00  1e+00  2e-16  2e-15\n",
      " 3: -3.8417e-01 -5.0636e-01  1e-01  1e-16  8e-16\n",
      " 4: -4.0077e-01 -4.1314e-01  1e-02  2e-16  6e-16\n",
      " 5: -4.0376e-01 -4.0496e-01  1e-03  2e-16  3e-16\n",
      " 6: -4.0444e-01 -4.0446e-01  2e-05  1e-16  3e-16\n",
      " 7: -4.0445e-01 -4.0445e-01  2e-07  1e-16  6e-16\n",
      "Optimal solution found.\n",
      "status optimal\n",
      "True\n",
      "     pcost       dcost       gap    pres   dres\n",
      " 0:  1.0811e+01 -1.7014e+02  3e+02  2e-01  3e-15\n",
      " 1:  8.6084e+00 -1.9167e+01  3e+01  1e-02  4e-15\n",
      " 2:  9.4655e-01 -2.7249e+00  4e+00  6e-16  3e-15\n",
      " 3: -1.9505e-01 -6.7720e-01  5e-01  1e-16  9e-16\n",
      " 4: -3.2137e-01 -3.7659e-01  6e-02  2e-16  7e-16\n",
      " 5: -3.6463e-01 -3.6612e-01  1e-03  1e-16  3e-16\n",
      " 6: -3.6543e-01 -3.6544e-01  1e-05  2e-16  5e-16\n",
      " 7: -3.6543e-01 -3.6543e-01  1e-07  1e-16  4e-16\n",
      "Optimal solution found.\n",
      "status optimal\n",
      "True\n",
      "     pcost       dcost       gap    pres   dres\n",
      " 0:  1.2592e+01 -1.4392e+02  3e+02  2e-01  4e-15\n",
      " 1:  7.0579e+00 -1.5594e+01  3e+01  9e-03  3e-15\n",
      " 2:  6.6199e-01 -2.3526e+00  3e+00  2e-16  2e-15\n",
      " 3: -2.3558e-01 -6.2085e-01  4e-01  2e-16  1e-15\n",
      " 4: -3.2679e-01 -3.6779e-01  4e-02  3e-16  5e-16\n",
      " 5: -3.5310e-01 -3.5600e-01  3e-03  2e-16  2e-16\n",
      " 6: -3.5517e-01 -3.5524e-01  7e-05  3e-16  6e-16\n",
      " 7: -3.5523e-01 -3.5523e-01  7e-07  4e-16  1e-15\n",
      " 8: -3.5523e-01 -3.5523e-01  7e-09  2e-16  4e-16\n",
      "Optimal solution found.\n",
      "status optimal\n",
      "True\n",
      "     pcost       dcost       gap    pres   dres\n",
      " 0:  1.2123e+01 -1.5939e+02  3e+02  2e-01  6e-15\n",
      " 1:  7.8304e+00 -1.8190e+01  3e+01  1e-02  1e-15\n",
      " 2:  7.3439e-01 -2.7253e+00  3e+00  4e-16  3e-15\n",
      " 3: -2.9098e-01 -7.2785e-01  4e-01  1e-16  1e-15\n",
      " 4: -4.0058e-01 -4.2774e-01  3e-02  2e-16  1e-15\n",
      " 5: -4.1828e-01 -4.1880e-01  5e-04  2e-16  4e-16\n",
      " 6: -4.1853e-01 -4.1854e-01  5e-06  2e-16  5e-16\n",
      " 7: -4.1854e-01 -4.1854e-01  5e-08  2e-16  6e-16\n",
      "Optimal solution found.\n",
      "status optimal\n",
      "True\n",
      "     pcost       dcost       gap    pres   dres\n",
      " 0:  1.5966e+01 -1.6189e+02  3e+02  2e-01  5e-15\n",
      " 1:  8.1726e+00 -1.5469e+01  2e+01  5e-03  4e-15\n",
      " 2:  6.8952e-01 -2.5442e+00  3e+00  6e-16  3e-15\n",
      " 3: -2.4884e-01 -6.6532e-01  4e-01  3e-16  8e-16\n",
      " 4: -3.2806e-01 -3.6143e-01  3e-02  2e-16  6e-16\n",
      " 5: -3.4737e-01 -3.4979e-01  2e-03  1e-16  6e-16\n",
      " 6: -3.4863e-01 -3.4866e-01  3e-05  2e-16  4e-16\n",
      " 7: -3.4864e-01 -3.4864e-01  3e-07  3e-16  4e-16\n",
      "Optimal solution found.\n",
      "status optimal\n",
      "True\n",
      "     pcost       dcost       gap    pres   dres\n",
      " 0:  1.4831e+01 -1.6938e+02  3e+02  2e-01  4e-15\n",
      " 1:  7.8747e+00 -1.8727e+01  3e+01  1e-02  3e-15\n",
      " 2:  5.2773e-01 -2.9824e+00  4e+00  3e-16  4e-15\n",
      " 3: -4.8992e-01 -8.8648e-01  4e-01  2e-16  1e-15\n",
      " 4: -6.6864e-01 -6.9868e-01  3e-02  3e-16  9e-16\n",
      " 5: -6.9260e-01 -6.9291e-01  3e-04  1e-16  1e-15\n",
      " 6: -6.9284e-01 -6.9284e-01  3e-06  3e-16  4e-16\n",
      " 7: -6.9284e-01 -6.9284e-01  3e-08  1e-16  1e-15\n",
      "Optimal solution found.\n",
      "status optimal\n",
      "True\n",
      "     pcost       dcost       gap    pres   dres\n",
      " 0:  1.4058e+01 -1.4469e+02  2e+02  2e-01  4e-15\n",
      " 1:  7.0719e+00 -1.4557e+01  2e+01  7e-03  3e-15\n",
      " 2:  5.8140e-01 -2.3461e+00  3e+00  2e-16  2e-15\n",
      " 3: -2.7413e-01 -6.3718e-01  4e-01  1e-16  6e-16\n",
      " 4: -3.8247e-01 -4.2093e-01  4e-02  2e-16  4e-16\n",
      " 5: -4.1600e-01 -4.1659e-01  6e-04  3e-16  3e-16\n",
      " 6: -4.1645e-01 -4.1646e-01  6e-06  2e-16  2e-16\n",
      " 7: -4.1646e-01 -4.1646e-01  6e-08  2e-16  6e-16\n",
      "Optimal solution found.\n",
      "status optimal\n",
      "success\n",
      "Package 0 saved\n"
     ]
    },
    {
     "name": "stderr",
     "output_type": "stream",
     "text": [
      "  9%|▉         | 9/100 [00:00<00:02, 42.74it/s]\n",
      "  9%|▉         | 9/100 [00:00<00:00, 93.54it/s]"
     ]
    },
    {
     "name": "stdout",
     "output_type": "stream",
     "text": [
      "True\n",
      "     pcost       dcost       gap    pres   dres\n",
      " 0:  8.2459e+00 -2.4702e+02  4e+02  3e-01  6e-15\n",
      " 1:  1.1617e+01 -2.6809e+01  4e+01  1e-02  2e-15\n",
      " 2:  7.8920e-01 -4.4091e+00  5e+00  3e-16  4e-15\n",
      " 3: -6.8131e-01 -1.2780e+00  6e-01  4e-16  2e-15\n",
      " 4: -8.5967e-01 -9.1184e-01  5e-02  3e-16  1e-15\n",
      " 5: -8.8911e-01 -8.8982e-01  7e-04  2e-16  7e-16\n",
      " 6: -8.8956e-01 -8.8957e-01  7e-06  2e-16  9e-16\n",
      " 7: -8.8957e-01 -8.8957e-01  7e-08  2e-16  9e-16\n",
      "Optimal solution found.\n",
      "status optimal\n",
      "True\n",
      "     pcost       dcost       gap    pres   dres\n",
      " 0:  1.1604e+01 -1.9230e+02  3e+02  2e-01  1e-14\n",
      " 1:  8.5865e+00 -2.3549e+01  4e+01  2e-02  3e-15\n",
      " 2:  6.6008e-01 -3.5691e+00  4e+00  6e-16  1e-15\n",
      " 3: -5.6153e-01 -1.0427e+00  5e-01  2e-16  6e-16\n",
      " 4: -7.4684e-01 -8.0010e-01  5e-02  2e-16  1e-15\n",
      " 5: -7.8500e-01 -7.8574e-01  7e-04  1e-16  1e-15\n",
      " 6: -7.8553e-01 -7.8553e-01  7e-06  1e-16  1e-15\n",
      " 7: -7.8553e-01 -7.8553e-01  7e-08  2e-16  4e-16\n",
      "Optimal solution found.\n",
      "status optimal\n",
      "True\n",
      "     pcost       dcost       gap    pres   dres\n",
      " 0:  1.4466e+01 -1.8395e+02  3e+02  2e-01  6e-15\n",
      " 1:  9.2922e+00 -1.8914e+01  3e+01  8e-03  1e-15\n",
      " 2:  8.0573e-01 -3.0132e+00  4e+00  2e-16  3e-15\n",
      " 3: -3.1644e-01 -7.9679e-01  5e-01  2e-16  7e-16\n",
      " 4: -4.3987e-01 -4.9046e-01  5e-02  1e-16  4e-16\n",
      " 5: -4.8220e-01 -4.8477e-01  3e-03  2e-16  4e-16\n",
      " 6: -4.8304e-01 -4.8306e-01  3e-05  2e-16  2e-16\n",
      " 7: -4.8305e-01 -4.8305e-01  3e-07  2e-16  4e-16\n",
      "Optimal solution found.\n",
      "status optimal\n",
      "True\n",
      "     pcost       dcost       gap    pres   dres\n",
      " 0:  1.2391e+01 -1.8947e+02  3e+02  2e-01  8e-15\n",
      " 1:  8.0166e+00 -1.9508e+01  3e+01  1e-02  4e-15\n",
      " 2:  3.3295e-01 -3.4154e+00  4e+00  4e-16  2e-15\n",
      " 3: -7.7056e-01 -1.1257e+00  4e-01  2e-16  2e-15\n",
      " 4: -9.9362e-01 -1.0021e+00  8e-03  1e-16  2e-15\n",
      " 5: -9.9935e-01 -9.9943e-01  8e-05  2e-16  1e-15\n",
      " 6: -9.9941e-01 -9.9941e-01  8e-07  1e-16  1e-15\n",
      "Optimal solution found.\n",
      "status optimal\n",
      "True\n",
      "     pcost       dcost       gap    pres   dres\n",
      " 0:  9.9752e+00 -2.0297e+02  4e+02  3e-01  1e-14\n",
      " 1:  9.4061e+00 -2.3667e+01  4e+01  2e-02  3e-15\n",
      " 2:  7.9500e-01 -3.6813e+00  4e+00  2e-16  3e-15\n",
      " 3: -4.9074e-01 -1.0307e+00  5e-01  3e-16  1e-15\n",
      " 4: -6.2792e-01 -6.8614e-01  6e-02  2e-16  1e-15\n",
      " 5: -6.6366e-01 -6.6836e-01  5e-03  3e-16  1e-15\n",
      " 6: -6.6695e-01 -6.6704e-01  8e-05  2e-16  6e-16\n",
      " 7: -6.6702e-01 -6.6702e-01  8e-07  2e-16  6e-16\n",
      " 8: -6.6702e-01 -6.6702e-01  8e-09  2e-16  7e-16\n",
      "Optimal solution found.\n",
      "status optimal\n",
      "True\n",
      "     pcost       dcost       gap    pres   dres\n",
      " 0:  1.4291e+01 -1.2270e+02  2e+02  1e-01  3e-15\n",
      " 1:  6.0413e+00 -1.1383e+01  2e+01  4e-03  3e-15\n",
      " 2:  5.0440e-01 -1.8739e+00  2e+00  2e-16  1e-15\n",
      " 3: -1.8502e-01 -4.9151e-01  3e-01  2e-16  5e-16\n",
      " 4: -2.4426e-01 -2.7708e-01  3e-02  2e-16  4e-16\n",
      " 5: -2.6585e-01 -2.6883e-01  3e-03  3e-16  3e-16\n",
      " 6: -2.6672e-01 -2.6679e-01  8e-05  2e-16  2e-16\n",
      " 7: -2.6673e-01 -2.6673e-01  8e-07  2e-16  6e-16\n",
      " 8: -2.6673e-01 -2.6673e-01  8e-09  2e-16  3e-16\n",
      "Optimal solution found.\n",
      "status optimal\n",
      "True\n",
      "     pcost       dcost       gap    pres   dres\n",
      " 0:  1.0176e+01 -2.5109e+02  5e+02  3e-01  3e-15\n",
      " 1:  1.1303e+01 -2.7637e+01  4e+01  8e-03  4e-15\n",
      " 2:  5.8882e-01 -4.5523e+00  5e+00  6e-16  4e-15\n",
      " 3: -8.8381e-01 -1.4014e+00  5e-01  3e-16  1e-15\n",
      " 4: -1.1771e+00 -1.2061e+00  3e-02  2e-16  1e-15\n",
      " 5: -1.1977e+00 -1.1980e+00  3e-04  1e-16  2e-15\n",
      " 6: -1.1979e+00 -1.1979e+00  3e-06  1e-16  1e-15\n",
      " 7: -1.1979e+00 -1.1979e+00  3e-08  2e-16  3e-15\n",
      "Optimal solution found.\n",
      "status optimal\n",
      "True\n",
      "     pcost       dcost       gap    pres   dres\n",
      " 0:  1.3665e+01 -1.7068e+02  3e+02  2e-01  2e-15\n",
      " 1:  8.5458e+00 -1.9095e+01  3e+01  1e-02  2e-15\n",
      " 2:  8.0763e-01 -2.8313e+00  4e+00  8e-16  2e-15\n",
      " 3: -2.7689e-01 -7.4337e-01  5e-01  3e-16  9e-16\n",
      " 4: -3.8741e-01 -4.4742e-01  6e-02  2e-16  7e-16\n",
      " 5: -4.2567e-01 -4.2990e-01  4e-03  2e-16  8e-16\n",
      " 6: -4.2871e-01 -4.2877e-01  7e-05  1e-16  8e-16\n",
      " 7: -4.2876e-01 -4.2876e-01  7e-07  2e-16  6e-16\n",
      " 8: -4.2876e-01 -4.2876e-01  7e-09  2e-16  6e-16\n",
      "Optimal solution found.\n",
      "status optimal\n",
      "True\n",
      "     pcost       dcost       gap    pres   dres\n",
      " 0:  1.3706e+01 -1.4225e+02  3e+02  2e-01  7e-15\n",
      " 1:  7.2863e+00 -1.4911e+01  2e+01  7e-03  1e-15\n",
      " 2:  7.0799e-01 -2.2230e+00  3e+00  3e-16  3e-15\n",
      " 3: -1.7552e-01 -5.6156e-01  4e-01  2e-16  7e-16\n",
      " 4: -2.5634e-01 -2.9051e-01  3e-02  3e-16  6e-16\n",
      " 5: -2.8199e-01 -2.8626e-01  4e-03  1e-16  6e-16\n",
      " 6: -2.8322e-01 -2.8343e-01  2e-04  2e-16  5e-16\n",
      " 7: -2.8336e-01 -2.8337e-01  8e-06  2e-16  4e-16\n",
      " 8: -2.8337e-01 -2.8337e-01  8e-08  1e-16  6e-16\n",
      "Optimal solution found.\n",
      "status optimal\n",
      "True\n",
      "     pcost       dcost       gap    pres   dres\n",
      " 0:  1.4326e+01 -1.8651e+02  3e+02  3e-01  7e-15\n",
      " 1:  9.6265e+00 -1.9980e+01  3e+01  8e-03  5e-15\n",
      " 2:  9.3572e-01 -2.9655e+00  4e+00  6e-16  3e-15\n",
      " 3: -2.4120e-01 -7.5239e-01  5e-01  3e-16  8e-16\n",
      " 4: -3.5196e-01 -3.9844e-01  5e-02  1e-16  5e-16\n",
      " 5: -3.7846e-01 -3.8154e-01  3e-03  2e-16  4e-16\n",
      " 6: -3.8079e-01 -3.8082e-01  3e-05  2e-16  4e-16\n",
      " 7: -3.8082e-01 -3.8082e-01  3e-07  2e-16  5e-16\n",
      "Optimal solution found.\n",
      "status optimal\n",
      "success\n",
      "Package 1 saved\n"
     ]
    },
    {
     "name": "stderr",
     "output_type": "stream",
     "text": [
      "\n"
     ]
    }
   ],
   "source": [
    "import os\n",
    "\n",
    "# directory = f'../../../../work/log1/darius.weber/Quadratic_Programming_Datasets/raw'\n",
    "directory = f'Quadratic_Programming_Datasets/raw'\n",
    "os.makedirs(directory, exist_ok=True)\n",
    "warnings.filterwarnings(\"error\")\n",
    "num_instances = 2\n",
    "for pkg_idx in range(num_instances):\n",
    "    ips = []\n",
    "    #pkg_idx = 0 #identifier index\n",
    "    success_cnt = 0\n",
    "    fail_cnt = 0\n",
    "    max_ipm_steps = 0\n",
    "\n",
    "\n",
    "    max_iter = 100\n",
    "    num = 10\n",
    "\n",
    "    for i in tqdm(range(max_iter)):\n",
    "        Q, q, G, h, A, b, S = surrogate_gen()\n",
    "        try:\n",
    "            res = qp(Q, q, G, h, A, b, callback=lambda res: res)\n",
    "            max_ipm_steps = max(max_ipm_steps, res['iterations'])\n",
    "            print(\"status\",res['status'])\n",
    "        except Exception as e:\n",
    "            fail_cnt += 1\n",
    "            warnings.warn(f'Optimization failed with error: {str(e)}')\n",
    "            continue\n",
    "        else:\n",
    "            if res['status'] == 'optimal': #np.isnan(res.fun)?\n",
    "                #ips.append((torch.from_numpy(np.array(Q)).to(torch.float), torch.from_numpy(np.array(q)).to(torch.float), torch.from_numpy(np.array(G)).to(torch.float), torch.from_numpy(np.array(h)).to(torch.float), torch.from_numpy(np.array(A)).to(torch.float), torch.from_numpy(np.array(b)).to(torch.float), torch.from_numpy(np.array(S)).to(torch.float)))\n",
    "                ips.append((Q, q, G, h, A, b, S))\n",
    "                success_cnt += 1\n",
    "                \n",
    "        if len(ips) >= 1000 or success_cnt == num:\n",
    "            print(\"success\")\n",
    "            ips = [ip + (max_ipm_steps,) for ip in ips]\n",
    "            with gzip.open(f'{directory}/instance_{pkg_idx}.pkl.gz', \"wb\") as file:\n",
    "                pickle.dump(ips, file)\n",
    "                print(f'Package {pkg_idx} saved')\n",
    "                pkg_idx += 1\n",
    "\n",
    "            ips = []\n",
    "        if success_cnt >= num:\n",
    "            break\n",
    "    warnings.resetwarnings()"
   ]
  },
  {
   "cell_type": "code",
   "execution_count": 5,
   "id": "e2721d626572439a",
   "metadata": {},
   "outputs": [
    {
     "name": "stdout",
     "output_type": "stream",
     "text": [
      "Data has been written to output/output.txt\n",
      "Data has been written to output/output.txt\n"
     ]
    }
   ],
   "source": [
    "# Ensure the output directory exists\n",
    "os.makedirs('output', exist_ok=True)\n",
    "\n",
    "# Open and load the .pkl.gz file\n",
    "for i in range(num_instances):\n",
    "    with gzip.open(f'Quadratic_Programming_Datasets/raw/instance_{i}.pkl.gz', 'rb') as f:\n",
    "        data = pickle.load(f)\n",
    "\n",
    "    # Now `data` contains the contents of the pickle file\n",
    "    output_path = f'output/output{i}.txt'\n",
    "    with open(output_path, 'w') as output_file:\n",
    "        output_file.write(str(data))\n",
    "    print(\"Data has been written to output/output.txt\")"
   ]
  },
  {
   "cell_type": "code",
   "execution_count": 8,
   "id": "da58a31599301d3b",
   "metadata": {
    "ExecuteTime": {
     "end_time": "2024-06-19T10:51:03.870539Z",
     "start_time": "2024-06-19T10:51:03.863323Z"
    }
   },
   "outputs": [],
   "source": []
  },
  {
   "cell_type": "code",
   "execution_count": null,
   "id": "78f1cd8d54d3c20d",
   "metadata": {},
   "outputs": [],
   "source": []
  }
 ],
 "metadata": {
  "kernelspec": {
   "display_name": "Python 3 (ipykernel)",
   "language": "python",
   "name": "python3"
  },
  "language_info": {
   "codemirror_mode": {
    "name": "ipython",
    "version": 3
   },
   "file_extension": ".py",
   "mimetype": "text/x-python",
   "name": "python",
   "nbconvert_exporter": "python",
   "pygments_lexer": "ipython3",
   "version": "3.12.3"
  }
 },
 "nbformat": 4,
 "nbformat_minor": 5
}
